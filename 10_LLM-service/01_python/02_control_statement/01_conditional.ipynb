{
 "cells": [
  {
   "cell_type": "markdown",
   "metadata": {},
   "source": [
    "# 01. 조건문\n",
    "## 01-01. 조건문 개요\n",
    "## 01-02. 조건문 if\n",
    "### 01-02-01. if"
   ]
  }
 ],
 "metadata": {
  "language_info": {
   "name": "python"
  }
 },
 "nbformat": 4,
 "nbformat_minor": 2
}
