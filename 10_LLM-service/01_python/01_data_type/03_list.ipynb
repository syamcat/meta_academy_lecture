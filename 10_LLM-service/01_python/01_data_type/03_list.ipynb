{
 "cells": [
  {
   "cell_type": "markdown",
   "metadata": {},
   "source": [
    "# 03. 리스트(List)"
   ]
  },
  {
   "cell_type": "markdown",
   "metadata": {},
   "source": [
    "## 03-01. 리스트 개요\n",
    "### 03-01-01. 리스트란?"
   ]
  },
  {
   "cell_type": "markdown",
   "metadata": {},
   "source": [
    "### 03-01-02. 리스트 표현식"
   ]
  },
  {
   "cell_type": "code",
   "execution_count": 3,
   "metadata": {},
   "outputs": [
    {
     "name": "stdout",
     "output_type": "stream",
     "text": [
      "['orange', 'apple', 'pear', 'banana', 'kiwi', 'apple']\n",
      "orange\n"
     ]
    }
   ],
   "source": [
    "fruits = ['orange', 'apple', 'pear', 'banana', 'kiwi', 'apple']\n",
    "\n",
    "print(fruits)\n",
    "print(fruits[0]) #인덱싱"
   ]
  },
  {
   "cell_type": "markdown",
   "metadata": {},
   "source": [
    "## 03-01-03. 문자열의 split()"
   ]
  },
  {
   "cell_type": "code",
   "execution_count": 5,
   "metadata": {},
   "outputs": [
    {
     "name": "stdout",
     "output_type": "stream",
     "text": [
      "['빨', '주', '노', '초', '파', '남', '보']\n"
     ]
    }
   ],
   "source": [
    "rainbow_split = '빨-주-노-초-파-남-보'\n",
    "print(rainbow_split.split('-'))\n"
   ]
  },
  {
   "cell_type": "markdown",
   "metadata": {},
   "source": [
    "### 03-01-04. list() 메소드"
   ]
  },
  {
   "cell_type": "code",
   "execution_count": 10,
   "metadata": {},
   "outputs": [
    {
     "name": "stdout",
     "output_type": "stream",
     "text": [
      "True\n",
      "<class 'list'>\n",
      "<class 'list'>\n"
     ]
    }
   ],
   "source": [
    "list1 = []\n",
    "list2 = list()\n",
    "\n",
    "print(list1 == list2)\n",
    "print(type(list1))\n",
    "print(type(list2))"
   ]
  },
  {
   "cell_type": "markdown",
   "metadata": {},
   "source": [
    "## 03-02. 리스트 연산"
   ]
  },
  {
   "cell_type": "code",
   "execution_count": 7,
   "metadata": {},
   "outputs": [],
   "source": [
    "safari_list = [\"bear\", \"koala\", \"gorilla\", \"squirrel\"]\n",
    "another_safari_list = [\"monkey\", \"tiger\", \"wolf\"]"
   ]
  },
  {
   "cell_type": "markdown",
   "metadata": {},
   "source": [
    "### 03-02-01. 리스트 합치기: +"
   ]
  },
  {
   "cell_type": "code",
   "execution_count": 8,
   "metadata": {},
   "outputs": [
    {
     "name": "stdout",
     "output_type": "stream",
     "text": [
      "['bear', 'koala', 'gorilla', 'squirrel', 'monkey', 'tiger', 'wolf']\n"
     ]
    }
   ],
   "source": [
    "print(safari_list + another_safari_list)"
   ]
  },
  {
   "cell_type": "markdown",
   "metadata": {},
   "source": [
    "### 03-02-02. 리스트 반복 : *"
   ]
  },
  {
   "cell_type": "code",
   "execution_count": 9,
   "metadata": {},
   "outputs": [
    {
     "name": "stdout",
     "output_type": "stream",
     "text": [
      "['bear', 'koala', 'gorilla', 'squirrel', 'bear', 'koala', 'gorilla', 'squirrel', 'bear', 'koala', 'gorilla', 'squirrel', 'bear', 'koala', 'gorilla', 'squirrel']\n"
     ]
    }
   ],
   "source": [
    "print(safari_list * 4)"
   ]
  },
  {
   "cell_type": "markdown",
   "metadata": {},
   "source": [
    "## 03-03. 리스트 메소드"
   ]
  },
  {
   "cell_type": "code",
   "execution_count": 23,
   "metadata": {},
   "outputs": [],
   "source": [
    "fruits = ['orange', 'apple', 'banana', 'apple', 'kiwi', 'pear']"
   ]
  },
  {
   "cell_type": "markdown",
   "metadata": {},
   "source": [
    "### 03-03-01. count()"
   ]
  },
  {
   "cell_type": "code",
   "execution_count": 14,
   "metadata": {},
   "outputs": [
    {
     "name": "stdout",
     "output_type": "stream",
     "text": [
      "2\n",
      "0\n"
     ]
    }
   ],
   "source": [
    "print(fruits.count('apple'))\n",
    "print(fruits.count('test'))"
   ]
  },
  {
   "cell_type": "markdown",
   "metadata": {},
   "source": [
    "### 03-03-02. index()"
   ]
  },
  {
   "cell_type": "code",
   "execution_count": null,
   "metadata": {},
   "outputs": [],
   "source": [
    "print(fruits.index('apple'))\n",
    "# print(fruits.index('test)) # error발생\n",
    "\n",
    "print(fruits.index('apple', 3)) # .index(keyword, offset)"
   ]
  },
  {
   "cell_type": "markdown",
   "metadata": {},
   "source": [
    "### 03-03-03. reverse()"
   ]
  },
  {
   "cell_type": "code",
   "execution_count": 16,
   "metadata": {},
   "outputs": [
    {
     "name": "stdout",
     "output_type": "stream",
     "text": [
      "['apple', 'banana', 'apple']\n"
     ]
    }
   ],
   "source": [
    "fruits.reverse() # 영구 반영\n",
    "print(fruits)"
   ]
  },
  {
   "cell_type": "markdown",
   "metadata": {},
   "source": [
    "### 03-03-04. append()"
   ]
  },
  {
   "cell_type": "code",
   "execution_count": 18,
   "metadata": {},
   "outputs": [
    {
     "data": {
      "text/plain": [
       "['apple', 'banana', 'apple', 'pineapple', 'pineapple']"
      ]
     },
     "execution_count": 18,
     "metadata": {},
     "output_type": "execute_result"
    }
   ],
   "source": [
    "fruits.append('pineapple')\n",
    "fruits"
   ]
  },
  {
   "cell_type": "markdown",
   "metadata": {},
   "source": [
    "### 03-03-05. extend()"
   ]
  },
  {
   "cell_type": "code",
   "execution_count": 19,
   "metadata": {},
   "outputs": [
    {
     "name": "stdout",
     "output_type": "stream",
     "text": [
      "['apple', 'banana', 'apple', 'pineapple', 'pineapple', 'rainbow fruit', 'sweet lemon', 'happy apple']\n"
     ]
    }
   ],
   "source": [
    "fruits.extend(['rainbow fruit', 'sweet lemon', 'happy apple'])\n",
    "print(fruits)"
   ]
  },
  {
   "cell_type": "markdown",
   "metadata": {},
   "source": [
    "### 03-03-06. insert()"
   ]
  },
  {
   "cell_type": "code",
   "execution_count": 20,
   "metadata": {},
   "outputs": [
    {
     "name": "stdout",
     "output_type": "stream",
     "text": [
      "['monkey banana', 'apple', 'banana', 'apple', 'pineapple', 'pineapple', 'rainbow fruit', 'sweet lemon', 'happy apple']\n"
     ]
    }
   ],
   "source": [
    "fruits.insert(0, 'monkey banana')\n",
    "print(fruits)"
   ]
  },
  {
   "cell_type": "markdown",
   "metadata": {},
   "source": [
    "### 03-03-07. sort()"
   ]
  },
  {
   "cell_type": "code",
   "execution_count": 21,
   "metadata": {},
   "outputs": [
    {
     "name": "stdout",
     "output_type": "stream",
     "text": [
      "['apple', 'apple', 'banana', 'happy apple', 'monkey banana', 'pineapple', 'pineapple', 'rainbow fruit', 'sweet lemon']\n",
      "['sweet lemon', 'rainbow fruit', 'pineapple', 'pineapple', 'monkey banana', 'happy apple', 'banana', 'apple', 'apple']\n",
      "['apple', 'apple', 'banana', 'pineapple', 'pineapple', 'sweet lemon', 'happy apple', 'rainbow fruit', 'monkey banana']\n",
      "['apple', 'apple', 'banana', 'pineapple', 'pineapple', 'happy apple', 'sweet lemon', 'monkey banana', 'rainbow fruit']\n"
     ]
    }
   ],
   "source": [
    "# 기본 정렬 (오름차순)\n",
    "fruits.sort()\n",
    "print(fruits)\n",
    "\n",
    "# 내림차순 정렬\n",
    "fruits.sort(reverse=True)\n",
    "print(fruits)\n",
    "\n",
    "# 문자열 길이가 짧은 순으로 정렬\n",
    "fruits.sort(key=len)\n",
    "print(fruits)\n",
    "\n",
    "# 복합 기준 정렬\n",
    "fruits.sort(key=lambda x:(len(x), x))\n",
    "print(fruits)"
   ]
  },
  {
   "cell_type": "markdown",
   "metadata": {},
   "source": [
    "### 03-03-08. remove()"
   ]
  },
  {
   "cell_type": "code",
   "execution_count": 25,
   "metadata": {},
   "outputs": [
    {
     "ename": "ValueError",
     "evalue": "list.remove(x): x not in list",
     "output_type": "error",
     "traceback": [
      "\u001b[0;31m---------------------------------------------------------------------------\u001b[0m",
      "\u001b[0;31mValueError\u001b[0m                                Traceback (most recent call last)",
      "Cell \u001b[0;32mIn[25], line 1\u001b[0m\n\u001b[0;32m----> 1\u001b[0m temp \u001b[38;5;241m=\u001b[39m \u001b[43mfruits\u001b[49m\u001b[38;5;241;43m.\u001b[39;49m\u001b[43mremove\u001b[49m\u001b[43m(\u001b[49m\u001b[38;5;124;43m'\u001b[39;49m\u001b[38;5;124;43mkiwi\u001b[39;49m\u001b[38;5;124;43m'\u001b[39;49m\u001b[43m)\u001b[49m\n\u001b[1;32m      2\u001b[0m \u001b[38;5;28mprint\u001b[39m(temp)\t\u001b[38;5;66;03m# 실행되면 null 반환\u001b[39;00m\n\u001b[1;32m      3\u001b[0m \u001b[38;5;28mprint\u001b[39m(fruits)\n",
      "\u001b[0;31mValueError\u001b[0m: list.remove(x): x not in list"
     ]
    }
   ],
   "source": [
    "temp = fruits.remove('kiwi')\n",
    "print(temp)\t# 실행되면 null 반환\n",
    "print(fruits)"
   ]
  },
  {
   "cell_type": "markdown",
   "metadata": {},
   "source": [
    "### 03-03-09. pop()"
   ]
  },
  {
   "cell_type": "code",
   "execution_count": 26,
   "metadata": {},
   "outputs": [
    {
     "name": "stdout",
     "output_type": "stream",
     "text": [
      "pear\n",
      "['orange', 'apple', 'banana', 'apple']\n"
     ]
    }
   ],
   "source": [
    "temp = fruits.pop()\n",
    "print(temp)\n",
    "print(fruits)"
   ]
  },
  {
   "cell_type": "markdown",
   "metadata": {},
   "source": [
    "## 03-04. 리스트를 이용한 자료구조\n",
    "### 03-04-01. Stack"
   ]
  },
  {
   "cell_type": "code",
   "execution_count": 27,
   "metadata": {},
   "outputs": [
    {
     "name": "stdout",
     "output_type": "stream",
     "text": [
      "['plate1', 'plate2', 'plate3', 'plate4']\n"
     ]
    }
   ],
   "source": [
    "plates = ['plate1', 'plate2']\n",
    "plates.append('plate3')\n",
    "plates.append('plate4')\n",
    "\n",
    "print(plates)"
   ]
  },
  {
   "cell_type": "code",
   "execution_count": 28,
   "metadata": {},
   "outputs": [
    {
     "name": "stdout",
     "output_type": "stream",
     "text": [
      "plate4\n",
      "['plate1', 'plate2', 'plate3']\n"
     ]
    }
   ],
   "source": [
    "print(plates.pop())\n",
    "print(plates)"
   ]
  },
  {
   "cell_type": "markdown",
   "metadata": {},
   "source": [
    "## 03-05. del키워드\n",
    "### 03-05-01. del"
   ]
  },
  {
   "cell_type": "code",
   "execution_count": 32,
   "metadata": {},
   "outputs": [
    {
     "name": "stdout",
     "output_type": "stream",
     "text": [
      "['A', 'B', 'C', 'D', 'E', 'F']\n",
      "['B', 'C', 'D', 'E', 'F']\n",
      "['B', 'E', 'F']\n",
      "[]\n"
     ]
    }
   ],
   "source": [
    "abclist = ['A', 'B', 'C', 'D', 'E', 'F']\n",
    "print(abclist)\n",
    "\n",
    "del abclist[0] # 안댁상\n",
    "print(abclist)\n",
    "\n",
    "del abclist[1:3] # 슬라이싱\n",
    "print(abclist)\n",
    "\n",
    "del abclist[:] # 전체 삭제\n",
    "print(abclist)\n",
    "\n",
    "del abclist"
   ]
  },
  {
   "cell_type": "markdown",
   "metadata": {},
   "source": [
    "## 03-06. 디큐(deque)\n",
    "### 03-06-01 디큐(double-ended queue, 양방향 큐)"
   ]
  },
  {
   "cell_type": "code",
   "execution_count": 34,
   "metadata": {},
   "outputs": [
    {
     "name": "stdout",
     "output_type": "stream",
     "text": [
      "deque(['a', 'b', 'c'])\n"
     ]
    }
   ],
   "source": [
    "from collections import deque\n",
    "\n",
    "dq = deque()\n",
    "\n",
    "dq.append('a')\n",
    "dq.append('b')\n",
    "dq.append('c')\n",
    "\n",
    "print(dq)\n"
   ]
  },
  {
   "cell_type": "markdown",
   "metadata": {},
   "source": [
    "### 03-05-02. 디큐의 메소드\n",
    "- append(), pop() : list에서의 append(), pop()과 동일하다.\n",
    "- appendleft() : 왼쪽 끝에 요소를 추가한다.\n",
    "- popleft() : 왼쪽 끝 요소 값 반환하며 제거한다."
   ]
  },
  {
   "cell_type": "code",
   "execution_count": 35,
   "metadata": {},
   "outputs": [
    {
     "name": "stdout",
     "output_type": "stream",
     "text": [
      "deque(['x', 'a', 'b', 'c'])\n",
      "x\n",
      "deque(['a', 'b', 'c'])\n"
     ]
    }
   ],
   "source": [
    "dq.appendleft('x')\n",
    "print(dq)\n",
    "\n",
    "left_value = dq.popleft()\n",
    "print(left_value)\n",
    "print(dq)"
   ]
  }
 ],
 "metadata": {
  "kernelspec": {
   "display_name": "pystudy_env",
   "language": "python",
   "name": "python3"
  },
  "language_info": {
   "codemirror_mode": {
    "name": "ipython",
    "version": 3
   },
   "file_extension": ".py",
   "mimetype": "text/x-python",
   "name": "python",
   "nbconvert_exporter": "python",
   "pygments_lexer": "ipython3",
   "version": "3.12.4"
  }
 },
 "nbformat": 4,
 "nbformat_minor": 2
}
