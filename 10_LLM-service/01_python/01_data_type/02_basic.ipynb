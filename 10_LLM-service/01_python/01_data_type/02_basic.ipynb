{
 "cells": [
  {
   "cell_type": "markdown",
   "metadata": {},
   "source": [
    "# 02-01. 숫자형(Numeric)\n",
    "## 02-01-01. 숫자 자료형의 종류"
   ]
  },
  {
   "cell_type": "code",
   "execution_count": 1,
   "metadata": {},
   "outputs": [
    {
     "name": "stdout",
     "output_type": "stream",
     "text": [
      "<class 'int'>\n",
      "<class 'int'>\n",
      "<class 'float'>\n",
      "<class 'float'>\n",
      "<class 'complex'>\n"
     ]
    }
   ],
   "source": [
    "# int\n",
    "num1 = 1\n",
    "num2 = -1\n",
    "\n",
    "print(type(num1))\n",
    "print(type(num2))\n",
    "\n",
    "# float\n",
    "num3 = 3.14\n",
    "num4 = 1.0\n",
    "\n",
    "print(type(num3))\n",
    "print(type(num4))\n",
    "\n",
    "# complex\n",
    "num5 = 4 + 4j\n",
    "print(type(num5)) # complex 자료형?"
   ]
  },
  {
   "cell_type": "markdown",
   "metadata": {},
   "source": [
    "### 02-01-02. 숫자 자료형의 연산\n",
    "- 사칙연산"
   ]
  },
  {
   "cell_type": "code",
   "execution_count": 3,
   "metadata": {},
   "outputs": [
    {
     "name": "stdout",
     "output_type": "stream",
     "text": [
      "13\n",
      "7\n",
      "30\n",
      "3.3333333333333335\n",
      "10.1\n",
      "9.9\n",
      "1.0\n",
      "100.0\n"
     ]
    }
   ],
   "source": [
    "num1 = 10\n",
    "num2 = 3\n",
    "print(num1 + num2)\n",
    "print(num1 - num2)\n",
    "print(num1 * num2)\n",
    "print(num1 / num2)\n",
    "\n",
    "num3 = 10\n",
    "num4 = 0.1\n",
    "\n",
    "print(num3 + num4)\n",
    "print(num3 - num4)\n",
    "print(num3 * num4)\n",
    "print(num3 / num4)"
   ]
  },
  {
   "cell_type": "markdown",
   "metadata": {},
   "source": [
    "- 나눗셈 나머지 연산과 몫 연산"
   ]
  },
  {
   "cell_type": "code",
   "execution_count": 4,
   "metadata": {},
   "outputs": [
    {
     "name": "stdout",
     "output_type": "stream",
     "text": [
      "1.5714285714285714\n",
      "4\n",
      "1\n"
     ]
    }
   ],
   "source": [
    "num1 = 11\n",
    "num2 = 7\n",
    "\n",
    "# 나눗셈 연산\n",
    "print(num1 / num2)\n",
    "\n",
    "# 나머지 연산\n",
    "print(num1 % num2)\n",
    "\n",
    "# 몫만 구하는 나누기 연산\n",
    "print(num1 // num2)\n",
    "\n"
   ]
  },
  {
   "cell_type": "markdown",
   "metadata": {},
   "source": [
    "- 제곱연산"
   ]
  },
  {
   "cell_type": "code",
   "execution_count": 5,
   "metadata": {},
   "outputs": [
    {
     "name": "stdout",
     "output_type": "stream",
     "text": [
      "81\n"
     ]
    }
   ],
   "source": [
    "base = 9\n",
    "exponent = 2\n",
    "\n",
    "print(base ** exponent)"
   ]
  },
  {
   "cell_type": "markdown",
   "metadata": {},
   "source": [
    "- 논리형"
   ]
  },
  {
   "cell_type": "markdown",
   "metadata": {},
   "source": [
    "## 02-02. 논리형 (Boolean)\n",
    "### 02-02-01. 논리 자료형\n",
    "- True 또는 False 값을 가지는 자료형"
   ]
  },
  {
   "cell_type": "code",
   "execution_count": 6,
   "metadata": {},
   "outputs": [
    {
     "name": "stdout",
     "output_type": "stream",
     "text": [
      "<class 'bool'>\n",
      "<class 'bool'>\n"
     ]
    }
   ],
   "source": [
    "bool1 = True\n",
    "bool2 = False\n",
    "\n",
    "print(type(bool1))\n",
    "print(type(bool2))"
   ]
  },
  {
   "cell_type": "markdown",
   "metadata": {},
   "source": [
    "### 02-02-02. 논리 자료형의 연산\n",
    "- 비교연산"
   ]
  },
  {
   "cell_type": "code",
   "execution_count": 10,
   "metadata": {},
   "outputs": [
    {
     "name": "stdout",
     "output_type": "stream",
     "text": [
      "False\n",
      "True\n",
      "True\n"
     ]
    },
    {
     "ename": "TypeError",
     "evalue": "'>' not supported between instances of 'str' and 'int'",
     "output_type": "error",
     "traceback": [
      "\u001b[0;31m---------------------------------------------------------------------------\u001b[0m",
      "\u001b[0;31mTypeError\u001b[0m                                 Traceback (most recent call last)",
      "Cell \u001b[0;32mIn[10], line 4\u001b[0m\n\u001b[1;32m      2\u001b[0m \u001b[38;5;28mprint\u001b[39m(\u001b[38;5;124m'\u001b[39m\u001b[38;5;124mohgiraffers\u001b[39m\u001b[38;5;124m'\u001b[39m \u001b[38;5;241m!=\u001b[39m \u001b[38;5;124m'\u001b[39m\u001b[38;5;124mOhgiraffers\u001b[39m\u001b[38;5;124m'\u001b[39m)\n\u001b[1;32m      3\u001b[0m \u001b[38;5;28mprint\u001b[39m(\u001b[38;5;241m100\u001b[39m \u001b[38;5;241m>\u001b[39m \u001b[38;5;241m90\u001b[39m)\n\u001b[0;32m----> 4\u001b[0m \u001b[38;5;28mprint\u001b[39m( \u001b[38;5;124;43m'\u001b[39;49m\u001b[38;5;124;43ma\u001b[39;49m\u001b[38;5;124;43m'\u001b[39;49m\u001b[43m \u001b[49m\u001b[38;5;241;43m>\u001b[39;49m\u001b[43m \u001b[49m\u001b[38;5;241;43m20\u001b[39;49m)\n",
      "\u001b[0;31mTypeError\u001b[0m: '>' not supported between instances of 'str' and 'int'"
     ]
    }
   ],
   "source": [
    "print( 1 == 3 )\n",
    "print('ohgiraffers' != 'Ohgiraffers')\n",
    "print(100 > 90)"
   ]
  },
  {
   "cell_type": "markdown",
   "metadata": {},
   "source": [
    "- 논리 연산"
   ]
  },
  {
   "cell_type": "code",
   "execution_count": 13,
   "metadata": {},
   "outputs": [
    {
     "name": "stdout",
     "output_type": "stream",
     "text": [
      "True\n",
      "True\n",
      "True\n",
      "False\n"
     ]
    }
   ],
   "source": [
    "print(1 != 3 and 100 > 99 and True)\n",
    "print(1 != 3 or 100 > 99 or True)\n",
    "\n",
    "print(1 <= 50 <= 100) # 3개 비교 가능하다.\n",
    "\n",
    "# ! 대신 not 키워드 사용\n",
    "print(not True)"
   ]
  },
  {
   "cell_type": "markdown",
   "metadata": {},
   "source": [
    "## 02-03. 문자형(String)\n",
    "### 02-03-01. 문자형 선언\n",
    "- 쌍따옴표와 홑따옴표를 사용하여 문자형 리터럴을 선언할 수 있다."
   ]
  },
  {
   "cell_type": "code",
   "execution_count": 14,
   "metadata": {},
   "outputs": [],
   "source": [
    "my_name = 'Tiger'"
   ]
  },
  {
   "cell_type": "markdown",
   "metadata": {},
   "source": [
    "- 삼중 따옴표를 사용해 여러 줄(멀티라인)으로 선언 하는 것도 가능하다."
   ]
  },
  {
   "cell_type": "code",
   "execution_count": 15,
   "metadata": {},
   "outputs": [
    {
     "data": {
      "text/plain": [
       "'\\n세상에 제일 긴 게 뭘까요?\\n기차? 기린의 목? 코끼리의 코?\\n전부 아닙니다.\\n여러분의 무한한 가능성 입니다.\\n'"
      ]
     },
     "execution_count": 15,
     "metadata": {},
     "output_type": "execute_result"
    }
   ],
   "source": [
    "text = \"\"\"\n",
    "세상에 제일 긴 게 뭘까요?\n",
    "기차? 기린의 목? 코끼리의 코?\n",
    "전부 아닙니다.\n",
    "여러분의 무한한 가능성 입니다.\n",
    "\"\"\"\n",
    "\n",
    "text"
   ]
  },
  {
   "cell_type": "markdown",
   "metadata": {},
   "source": [
    "### 02-03-02. 문자형 연산\n",
    "- 문자열 이어붙이기: +"
   ]
  },
  {
   "cell_type": "code",
   "execution_count": 17,
   "metadata": {},
   "outputs": [
    {
     "name": "stdout",
     "output_type": "stream",
     "text": [
      "반갑습니다람쥐\n",
      "반갑습니다다람쥐입니다!\n",
      "900살 입니다\n"
     ]
    }
   ],
   "source": [
    "greeting = '반갑습니'\n",
    "name = '다람쥐'\n",
    "print(greeting + name)\n",
    "print(greeting + \"다\" + name + \"입니다!\")\n",
    "\n",
    "# print(900 + \"살\" + name + \"입니다.\") # 다른 자료형 끼리 이어붙이기 안된다.\n",
    "print(str(900) + \"살 입니다\")"
   ]
  },
  {
   "cell_type": "markdown",
   "metadata": {},
   "source": [
    "- 문자열 반복하기"
   ]
  },
  {
   "cell_type": "code",
   "execution_count": 18,
   "metadata": {},
   "outputs": [
    {
     "name": "stdout",
     "output_type": "stream",
     "text": [
      "무슨 일이든 시작 전에 세 번만 외쳐보자.나는 python을 잘 할 수 있다!나는 python을 잘 할 수 있다!나는 python을 잘 할 수 있다!\n"
     ]
    }
   ],
   "source": [
    "subject = \"python\"\n",
    "print(\"무슨 일이든 시작 전에 세 번만 외쳐보자.\" + (\"나는 \" + subject + \"을 잘 할 수 있다!\") * 3)"
   ]
  },
  {
   "cell_type": "markdown",
   "metadata": {},
   "source": [
    "## 02-03-03. 문자형의 메소드"
   ]
  },
  {
   "cell_type": "code",
   "execution_count": 20,
   "metadata": {},
   "outputs": [
    {
     "name": "stdout",
     "output_type": "stream",
     "text": [
      "2024-12-16\n",
      "oh giraffers  $\n",
      "h giraffers  $\n",
      " oh giraffers  $\n"
     ]
    }
   ],
   "source": [
    "# replace()\n",
    "enroll_date = '2024/12/16'\n",
    "rep_enroll_date = enroll_date.replace(\"/\", \"-\")\n",
    "\n",
    "print(rep_enroll_date)\n",
    "\n",
    "# strip()\n",
    "origin = 'ohgiraffers'\n",
    "with_white_space = ' oh giraffers  $'\n",
    "# 앞 뒤 공백 제거\n",
    "print(with_white_space.strip())\n",
    "# 인자 제거\n",
    "print(with_white_space.strip('  o'))\n",
    "# 인자 여러개 넣기\n",
    "print(with_white_space.strip('os'))\n",
    "\n",
    "print(with_white_space.lstrip())\n",
    "# 뒤에서 부터 삭제\n",
    "print(with_white_space.rstrip());"
   ]
  },
  {
   "cell_type": "code",
   "execution_count": null,
   "metadata": {},
   "outputs": [],
   "source": [
    "origin_str = 'hELLO wORLD'\n",
    "\n",
    "print(origin_str.upper())\n",
    "print(origin_str.lower())\n",
    "print(origin_str.capitalize())\n",
    "print(origin_str.swapcase())"
   ]
  },
  {
   "cell_type": "markdown",
   "metadata": {},
   "source": [
    "### 문자열 포매팅"
   ]
  },
  {
   "cell_type": "code",
   "execution_count": null,
   "metadata": {},
   "outputs": [],
   "source": [
    "x = 10\n",
    "print(\"x is %d\" %x)\n",
    "\n",
    "y = \"code\"\n",
    "print(\"y is %s\" %y)\n",
    "\n"
   ]
  },
  {
   "cell_type": "markdown",
   "metadata": {},
   "source": [
    "- format()"
   ]
  },
  {
   "cell_type": "code",
   "execution_count": 21,
   "metadata": {},
   "outputs": [
    {
     "name": "stdout",
     "output_type": "stream",
     "text": [
      "x is 10\n",
      "x is 10 y is code\n",
      "x is 10 and y is code\n"
     ]
    }
   ],
   "source": [
    "x, y = 10, \"code\"\n",
    "print(\"x is {0}\".format(x))\n",
    "print(\"x is {0} y is {1}\".format(x, y))\n",
    "print(\"x is {new_x} and y is {new_y}\".format(new_x=x, new_y=y))"
   ]
  },
  {
   "cell_type": "markdown",
   "metadata": {},
   "source": [
    "f-string"
   ]
  },
  {
   "cell_type": "code",
   "execution_count": 22,
   "metadata": {},
   "outputs": [
    {
     "name": "stdout",
     "output_type": "stream",
     "text": [
      "안녕하세요. 오늘부터 여러분과 함께 공부할 호랑이 강사 입니다!\n"
     ]
    }
   ],
   "source": [
    "teacher_name = \"호랑이\"\n",
    "print(f\"안녕하세요. 오늘부터 여러분과 함께 공부할 {teacher_name} 강사 입니다!\")"
   ]
  },
  {
   "cell_type": "markdown",
   "metadata": {},
   "source": [
    "## 02-04. 주석\n",
    "### 02-04-01. 주석의 종류\n",
    "- 한 줄 주석"
   ]
  },
  {
   "cell_type": "code",
   "execution_count": 23,
   "metadata": {},
   "outputs": [],
   "source": [
    "# 이렇게 작성"
   ]
  },
  {
   "cell_type": "code",
   "execution_count": null,
   "metadata": {},
   "outputs": [],
   "source": [
    "print('이건 해석하구요')\n"
   ]
  },
  {
   "cell_type": "markdown",
   "metadata": {},
   "source": [
    "- 여러 줄 주석"
   ]
  },
  {
   "cell_type": "code",
   "execution_count": 24,
   "metadata": {},
   "outputs": [
    {
     "data": {
      "text/plain": [
       "\"\\n삼중 따옴표를 사용하면 \\n구간에 걸친 주석이 사용됩니다.\\n\\nprint('그래서')\\nprint('출력안됨')\\n\""
      ]
     },
     "execution_count": 24,
     "metadata": {},
     "output_type": "execute_result"
    }
   ],
   "source": [
    "'''\n",
    "삼중 따옴표를 사용하면 \n",
    "구간에 걸친 주석이 사용됩니다.\n",
    "\n",
    "print('그래서')\n",
    "print('출력안됨')\n",
    "'''"
   ]
  },
  {
   "cell_type": "code",
   "execution_count": 2,
   "metadata": {},
   "outputs": [
    {
     "name": "stdout",
     "output_type": "stream",
     "text": [
      "\n",
      "큰 따옴표도 마친가지로 여러줄 주석입니다\n",
      "\n",
      "print(\"안 나오죠?)\n",
      "\n"
     ]
    }
   ],
   "source": [
    "\"\"\"\n",
    "큰 따옴표도 마친가지로 여러줄 주석입니다\n",
    "\n",
    "print(\"안 나오죠?)\n",
    "\"\"\"\n",
    "\n",
    "print(\"123\")"
   ]
  },
  {
   "cell_type": "markdown",
   "metadata": {},
   "source": [
    "## 02-05. 형변환\n",
    "### 02-05-01. 형변환이란\n",
    "### 02-05-02. 형변환의 종류"
   ]
  },
  {
   "cell_type": "markdown",
   "metadata": {},
   "source": [
    "1. 암시적 형변환"
   ]
  },
  {
   "cell_type": "code",
   "execution_count": 27,
   "metadata": {},
   "outputs": [
    {
     "name": "stdout",
     "output_type": "stream",
     "text": [
      "4\n"
     ]
    }
   ],
   "source": [
    "print(True + 3)\n",
    "# print(3 + \"5\") # 숫자 + 문자는 암시적 형변환 불가"
   ]
  },
  {
   "cell_type": "markdown",
   "metadata": {},
   "source": [
    "2. 명시적 형변환\n",
    "- str, float => int (단, 혁시에 맞는 문자열로만 정수로 변환 가능)"
   ]
  },
  {
   "cell_type": "code",
   "execution_count": null,
   "metadata": {},
   "outputs": [],
   "source": [
    "print(int('3') + 4)\n",
    "# print(int('3.5') + 4) # 소수점 없는 숫자만 int로 변환 가능"
   ]
  },
  {
   "cell_type": "markdown",
   "metadata": {},
   "source": [
    "- str, int => float(단, 형식에 맞는 문자열로만 float로 변환 가능)"
   ]
  },
  {
   "cell_type": "code",
   "execution_count": 28,
   "metadata": {},
   "outputs": [
    {
     "name": "stdout",
     "output_type": "stream",
     "text": [
      "4.5\n",
      "4.0\n"
     ]
    }
   ],
   "source": [
    "print(float('3.5') + 1.0)\n",
    "print(float('3') + 1) # 가능"
   ]
  },
  {
   "cell_type": "markdown",
   "metadata": {},
   "source": [
    "- int, float, list, tuple, dict => str(문자열 변환은 전부 가능)"
   ]
  },
  {
   "cell_type": "code",
   "execution_count": null,
   "metadata": {},
   "outputs": [],
   "source": [
    "print(str(1))\n",
    "print(str(1.0))\n",
    "print(str({1, 2, 3}))"
   ]
  },
  {
   "cell_type": "markdown",
   "metadata": {},
   "source": [
    "- list, tuple, dict(시퀀스 자료형 = 컬렉션) => list"
   ]
  },
  {
   "cell_type": "code",
   "execution_count": null,
   "metadata": {},
   "outputs": [],
   "source": [
    "print(list('ohgiraffers'))\n",
    "print(list(1, 2, 3, 4, 5))\n",
    "print(list({\"1\": \"hello\", \"2\": \"world\"}))"
   ]
  }
 ],
 "metadata": {
  "kernelspec": {
   "display_name": "pystudy_env",
   "language": "python",
   "name": "python3"
  },
  "language_info": {
   "codemirror_mode": {
    "name": "ipython",
    "version": 3
   },
   "file_extension": ".py",
   "mimetype": "text/x-python",
   "name": "python",
   "nbconvert_exporter": "python",
   "pygments_lexer": "ipython3",
   "version": "3.12.4"
  }
 },
 "nbformat": 4,
 "nbformat_minor": 2
}
