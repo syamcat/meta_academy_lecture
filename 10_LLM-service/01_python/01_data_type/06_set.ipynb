{
 "cells": [
  {
   "cell_type": "markdown",
   "metadata": {},
   "source": [
    "# 06. 셋(Set)\n",
    "## 06-01. 셋 개요\n",
    "### 06-01-01. 셋이란\n",
    "> 중복된 요소를 허용하지 않으며 순서 없이 요소를 저장하는 컬렉션이다."
   ]
  },
  {
   "cell_type": "markdown",
   "metadata": {},
   "source": [
    "### 06-01-02. 셋 표현식\n",
    "- 중괄호{}를 사용해서 잡합을 생성한다"
   ]
  },
  {
   "cell_type": "code",
   "execution_count": 1,
   "metadata": {},
   "outputs": [
    {
     "name": "stdout",
     "output_type": "stream",
     "text": [
      "{'squirrel', 'koala', 'gorilla', 'bear'}\n",
      "{1, 2, 3, 4, 5}\n",
      "{1, (1, 2, 3), 'bear'}\n"
     ]
    }
   ],
   "source": [
    "safari_set = {\"bear\", \"koala\", \"gorilla\", \"squirrel\"}\n",
    "print(safari_set)\n",
    "\n",
    "numbers = {1, 2, 3, 4, 5}\n",
    "print(numbers)\n",
    "\n",
    "mixed_set = {1, \"bear\", (1, 2, 3)}\n",
    "print(mixed_set)"
   ]
  },
  {
   "cell_type": "markdown",
   "metadata": {},
   "source": [
    "- set()을 사용해 형변환도 가능하다"
   ]
  },
  {
   "cell_type": "code",
   "execution_count": 2,
   "metadata": {},
   "outputs": [
    {
     "name": "stdout",
     "output_type": "stream",
     "text": [
      "{'wolf', 'monkey', 'tiger'}\n"
     ]
    }
   ],
   "source": [
    "another_safari_set = set([\"monkey\", \"tiger\", \"wolf\"])\n",
    "print(another_safari_set)"
   ]
  },
  {
   "cell_type": "markdown",
   "metadata": {},
   "source": [
    "### 06-01-03. 셋의 특징\n",
    "1. 순서가 없는 자료형이며, 순서가 없으므로 인덱스를 사용한 접근이 불가능하다."
   ]
  },
  {
   "cell_type": "code",
   "execution_count": null,
   "metadata": {},
   "outputs": [],
   "source": [
    "ohgiraffers = {\"pig\", \"squirell\", \"bear\", \"gorilla\"}\n",
    "print(ohgiraffers[0]) # 이런건 안됨"
   ]
  },
  {
   "cell_type": "markdown",
   "metadata": {},
   "source": [
    "2. 중복을 허용하지 않으므로 동일한 값은 하나만 저장된다."
   ]
  },
  {
   "cell_type": "code",
   "execution_count": 3,
   "metadata": {},
   "outputs": [
    {
     "name": "stdout",
     "output_type": "stream",
     "text": [
      "{'squirrel', 'pig', 'gorilla', 'bear'}\n"
     ]
    }
   ],
   "source": [
    "ohgiraffers = {\"pig\", \"squirrel\", \"bear\", \"gorilla\", \"gorilla\"}\n",
    "print(ohgiraffers)"
   ]
  },
  {
   "cell_type": "markdown",
   "metadata": {},
   "source": [
    "3. 가변성을 가진 자료형ㅇ으로 데이터, 즉 요소를 추가하거나 제거할 수 있다.\n",
    "- 순서가 없는 자료형으로 특정 요소에 접근할 수 없으므로 직접 변경을 할 수 없다."
   ]
  },
  {
   "cell_type": "code",
   "execution_count": 4,
   "metadata": {},
   "outputs": [
    {
     "name": "stdout",
     "output_type": "stream",
     "text": [
      "{'squirrel', 'pig', 'gorilla', 'bear'}\n",
      "{'squirrel', 'pig', 'bear'}\n",
      "{'squirrel', 'pig', 'gorilla', 'bear'}\n"
     ]
    }
   ],
   "source": [
    "ohgiraffers = {\"pig\", \"squirrel\", \"bear\", \"gorilla\"}\n",
    "print(ohgiraffers)\n",
    "ohgiraffers.remove(\"gorilla\")\n",
    "print(ohgiraffers)\n",
    "ohgiraffers.add(\"gorilla\")\n",
    "print(ohgiraffers)"
   ]
  },
  {
   "cell_type": "markdown",
   "metadata": {},
   "source": [
    "4. 다양한 데이터 타입을 지원한다."
   ]
  },
  {
   "cell_type": "code",
   "execution_count": 5,
   "metadata": {},
   "outputs": [
    {
     "name": "stdout",
     "output_type": "stream",
     "text": [
      "{1, 2, 3.0, 'pig', 'squirrel', 'bear'}\n"
     ]
    }
   ],
   "source": [
    "ohgiraffers = {1, \"squirrel\", 2, \"bear\", \"pig\", 3.0}\n",
    "print(ohgiraffers)"
   ]
  },
  {
   "cell_type": "markdown",
   "metadata": {},
   "source": [
    "5. 수학적 집합 연산 (합집합, 교집합, 차집합)을 지원한다.\n",
    "6. in키워드를 통해 포함 여부를 반환받을 수 있다."
   ]
  },
  {
   "cell_type": "code",
   "execution_count": 6,
   "metadata": {},
   "outputs": [
    {
     "name": "stdout",
     "output_type": "stream",
     "text": [
      "{'wolf', 'tiger', 'monkey', 'sheep'}\n"
     ]
    }
   ],
   "source": [
    "java_team = {\"tiger\", \"wolf\", \"sheep\", \"monkey\"}\n",
    "print(java_team)"
   ]
  }
 ],
 "metadata": {
  "kernelspec": {
   "display_name": "pystudy_env",
   "language": "python",
   "name": "python3"
  },
  "language_info": {
   "codemirror_mode": {
    "name": "ipython",
    "version": 3
   },
   "file_extension": ".py",
   "mimetype": "text/x-python",
   "name": "python",
   "nbconvert_exporter": "python",
   "pygments_lexer": "ipython3",
   "version": "3.12.4"
  }
 },
 "nbformat": 4,
 "nbformat_minor": 2
}
