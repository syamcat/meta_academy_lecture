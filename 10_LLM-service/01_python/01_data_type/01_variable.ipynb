{
 "cells": [
  {
   "cell_type": "markdown",
   "metadata": {},
   "source": [
    "# 01.변수"
   ]
  },
  {
   "cell_type": "markdown",
   "metadata": {},
   "source": [
    "## 01 - 01. 변수 개요"
   ]
  },
  {
   "cell_type": "markdown",
   "metadata": {},
   "source": [
    "### 01-02. 대입연산자\n",
    "#### 01-02-01. 대입연산자 \"=\""
   ]
  },
  {
   "cell_type": "markdown",
   "metadata": {},
   "source": [
    "## 01-03. 변수 이름 명명 규칙\n",
    "### 01-03-01. 암묵적 규칙\n",
    "1. 변수 이름은 변수에 담긴 값이 무엇인지 직관적으로 알 수 있게끔 작성한다."
   ]
  },
  {
   "cell_type": "code",
   "execution_count": 5,
   "metadata": {},
   "outputs": [],
   "source": [
    "height = 170"
   ]
  },
  {
   "cell_type": "markdown",
   "metadata": {},
   "source": [
    "2. 변수명은 스네이크 케이스(소문자 + 언더바)로 작성하며, 대소문자를 구별한다."
   ]
  },
  {
   "cell_type": "code",
   "execution_count": null,
   "metadata": {},
   "outputs": [],
   "source": [
    "team_name = \"오지라퍼스\"\n",
    "print(team_name)\n",
    "#print(Team_name) # error남"
   ]
  },
  {
   "cell_type": "markdown",
   "metadata": {},
   "source": [
    "3. 한글 변수명을 지정할 수 있다. (하지만 인코딩의 문제를 야기할 수 있기 때문에 사용을 지양한다.)"
   ]
  },
  {
   "cell_type": "markdown",
   "metadata": {},
   "source": [
    "### 01-03-02 문법 오류를 발생시키는 규칙"
   ]
  },
  {
   "cell_type": "markdown",
   "metadata": {},
   "source": [
    "1. 영문과 숫자를 혼합해 작성할 수 있지만, 숫자를 가장 앞에 작성할 수 없다."
   ]
  },
  {
   "cell_type": "code",
   "execution_count": null,
   "metadata": {},
   "outputs": [],
   "source": [
    "team_1_name = \"오지라퍼스\"\n",
    "#1_team_name = \"오지라퍼스\" # 불가능"
   ]
  },
  {
   "cell_type": "markdown",
   "metadata": {},
   "source": [
    "2. 언더바를 제외한 특수문자는 변수명으로 사용이 불가능하다."
   ]
  },
  {
   "cell_type": "code",
   "execution_count": null,
   "metadata": {},
   "outputs": [],
   "source": [
    "#team_@_name = \"오지라퍼스\""
   ]
  },
  {
   "cell_type": "markdown",
   "metadata": {},
   "source": [
    "3. 파이썬 예약어(if, elif, else, for, while, ...)는 변수명으로 사용할 수 없다."
   ]
  },
  {
   "cell_type": "code",
   "execution_count": 6,
   "metadata": {},
   "outputs": [],
   "source": [
    "# else = \"오지라퍼스\""
   ]
  },
  {
   "cell_type": "markdown",
   "metadata": {},
   "source": [
    "---\n",
    "[참고] 파이썬의 언더스코어 (_)\n",
    "- 파이썬에서 언더스코어의 사용은 네가지의 특별한 기능을 제공한다."
   ]
  },
  {
   "cell_type": "markdown",
   "metadata": {},
   "source": [
    "1. 인터프리터에서 마지막으로 실행된 값 저장시 언더스코어라는 변수로 저장된다."
   ]
  },
  {
   "cell_type": "code",
   "execution_count": 7,
   "metadata": {},
   "outputs": [
    {
     "data": {
      "text/plain": [
       "10"
      ]
     },
     "execution_count": 7,
     "metadata": {},
     "output_type": "execute_result"
    }
   ],
   "source": [
    "10"
   ]
  },
  {
   "cell_type": "code",
   "execution_count": 9,
   "metadata": {},
   "outputs": [
    {
     "data": {
      "text/plain": [
       "10"
      ]
     },
     "execution_count": 9,
     "metadata": {},
     "output_type": "execute_result"
    }
   ],
   "source": [
    "_ # _ = 10"
   ]
  },
  {
   "cell_type": "code",
   "execution_count": 10,
   "metadata": {},
   "outputs": [
    {
     "data": {
      "text/plain": [
       "100"
      ]
     },
     "execution_count": 10,
     "metadata": {},
     "output_type": "execute_result"
    }
   ],
   "source": [
    "_ * 10"
   ]
  },
  {
   "cell_type": "markdown",
   "metadata": {},
   "source": [
    "2. 값을 무시하고 싶은 경우, 특정 값을 무시하기 위한 용도로 사용할 수 있다."
   ]
  },
  {
   "cell_type": "code",
   "execution_count": 11,
   "metadata": {},
   "outputs": [
    {
     "name": "stdout",
     "output_type": "stream",
     "text": [
      "1\n",
      "3\n",
      "1\n",
      "5\n"
     ]
    }
   ],
   "source": [
    "x, _, z = (1, 2, 3)\n",
    "print(x)\n",
    "print(z)\n",
    "x, *_, y = (1, 2, 3, 4, 5) # wildcard (*) 사용, 몇개가 오든 모두 모두 무시한다.\n",
    "print(x)\n",
    "print(y)"
   ]
  },
  {
   "cell_type": "markdown",
   "metadata": {},
   "source": [
    "3. 변수나 함수명에 특별한 의미 또는 기능을 부여하고자 할 때 사용할 수 있다.\n",
    "- 변수, 함수, 클래스, 메소드 선언할 때 _로 시작하는 것들은 임포트에서 무시된다.\n",
    "- 파이썬은 private를 지원하지 않고 있지만, 위와 같이 사용함으로써 private 선언 컨벤션으로 쓸 수 있다. (임포트에서는 무시되지만 직접 가져다 쓰는 등의 호출은 가능하다.)"
   ]
  },
  {
   "cell_type": "code",
   "execution_count": 12,
   "metadata": {},
   "outputs": [],
   "source": [
    "_internal_name = 'one_module'\n",
    "_internal_version = '1.0'"
   ]
  },
  {
   "cell_type": "markdown",
   "metadata": {},
   "source": [
    "4. 숫자 리터럴 값의 자리수 구분을 위한 구분자로 사용할 수 있다.\n",
    "- 파이썬 3.6에서 추가된 문법으로, 언더스코어를 이용해 자릿수를 구분할 수 있다."
   ]
  },
  {
   "cell_type": "code",
   "execution_count": 13,
   "metadata": {},
   "outputs": [
    {
     "data": {
      "text/plain": [
       "1000000"
      ]
     },
     "execution_count": 13,
     "metadata": {},
     "output_type": "execute_result"
    }
   ],
   "source": [
    "milion = 1_000_000\n",
    "milion"
   ]
  },
  {
   "cell_type": "markdown",
   "metadata": {},
   "source": [
    "5. 파이썬 키워드, 모듈명 충돌을 회피하기 위해 마지막에 _를 붙인다."
   ]
  },
  {
   "cell_type": "code",
   "execution_count": 14,
   "metadata": {},
   "outputs": [
    {
     "name": "stdout",
     "output_type": "stream",
     "text": [
      "this is test\n"
     ]
    }
   ],
   "source": [
    "for_ = \"this is test\"\n",
    "print(for_)"
   ]
  },
  {
   "cell_type": "markdown",
   "metadata": {},
   "source": [
    "6. 스페셜 변수, 매직 메소드 등에서 사용하기도 한다."
   ]
  },
  {
   "cell_type": "code",
   "execution_count": null,
   "metadata": {},
   "outputs": [],
   "source": [
    "class A:\n",
    "\tdef __init__(self):\n",
    "\t\tself.__foo = 'hello'\n",
    "\t\tself.bar = 'world'\n",
    "\n",
    "\tdef foo(self):\n",
    "\t\treturn self.__foo\n",
    "\t\n",
    "\tdef _good_morning(self):\n",
    "\t\treturn self.bar *10"
   ]
  }
 ],
 "metadata": {
  "kernelspec": {
   "display_name": "pystudy_env",
   "language": "python",
   "name": "python3"
  },
  "language_info": {
   "codemirror_mode": {
    "name": "ipython",
    "version": 3
   },
   "file_extension": ".py",
   "mimetype": "text/x-python",
   "name": "python",
   "nbconvert_exporter": "python",
   "pygments_lexer": "ipython3",
   "version": "3.12.4"
  }
 },
 "nbformat": 4,
 "nbformat_minor": 2
}
