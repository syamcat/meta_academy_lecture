{
 "cells": [
  {
   "cell_type": "markdown",
   "metadata": {},
   "source": [
    "# 07. 딕셔너리(Dictionary)\n",
    "## 07-01. 딕셔너리 개요\n",
    "### 07-01-01. 딕셔너리란\n",
    "> 키와 값의 쌍으로 구성된 자료형, 키를 통해 값을 찾을 수 있다."
   ]
  },
  {
   "cell_type": "markdown",
   "metadata": {},
   "source": [
    "### 07-01-02. 딕셔너리 표현식"
   ]
  },
  {
   "cell_type": "code",
   "execution_count": 1,
   "metadata": {},
   "outputs": [
    {
     "name": "stdout",
     "output_type": "stream",
     "text": [
      "<class 'dict'>\n",
      "bear\n"
     ]
    }
   ],
   "source": [
    "teacher = {\"name\": \"bear\", \"team\": \"ohgiraffers\"}\n",
    "print(type(teacher))\n",
    "\n",
    "print(teacher[\"name\"])\n",
    "# print(teacher.team) # 이렇게는 안된다"
   ]
  },
  {
   "cell_type": "markdown",
   "metadata": {},
   "source": [
    "### 07-01-03. 딕셔너리의 특징\n",
    "1. 키(key)와 값(value)쌍으로 구성된다."
   ]
  },
  {
   "cell_type": "code",
   "execution_count": 2,
   "metadata": {},
   "outputs": [
    {
     "name": "stdout",
     "output_type": "stream",
     "text": [
      "{'tiger': 'langchain', 'squirrel': 'JPA', 'bear': 'python', 'gorilla': 'spring'}\n"
     ]
    }
   ],
   "source": [
    "ohgiraffers = {\n",
    "\t\"tiger\": \"langchain\",\n",
    "\t\"squirrel\": \"JPA\",\n",
    "\t\"bear\": \"python\",\n",
    "\t\"gorilla\": \"spring\"\n",
    "}\n",
    "\n",
    "print(ohgiraffers)"
   ]
  },
  {
   "cell_type": "markdown",
   "metadata": {},
   "source": [
    "2. 키는 고유해야 하며 불변한 데이터 타입이어야 한다.\n",
    "- 각 키는 유일하게 존재해야 하므로 동일한 키로 여러 값을 저장할 수 있다.\n",
    "- 만약 중복 키로 값을 입력하면 기존 값을 덮어쓴다.\n",
    "- key로 가변자료형(리스트, 딕셔너리)은 사용할 수 없고, 기본자료형이나 불협"
   ]
  }
 ],
 "metadata": {
  "kernelspec": {
   "display_name": "pystudy_env",
   "language": "python",
   "name": "python3"
  },
  "language_info": {
   "codemirror_mode": {
    "name": "ipython",
    "version": 3
   },
   "file_extension": ".py",
   "mimetype": "text/x-python",
   "name": "python",
   "nbconvert_exporter": "python",
   "pygments_lexer": "ipython3",
   "version": "3.12.4"
  }
 },
 "nbformat": 4,
 "nbformat_minor": 2
}
