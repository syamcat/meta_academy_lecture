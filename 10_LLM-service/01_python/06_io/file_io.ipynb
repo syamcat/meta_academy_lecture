{
 "cells": [
  {
   "cell_type": "markdown",
   "metadata": {},
   "source": [
    "# 01. 파일 입출력\n",
    "# 06-01. 파일 접근\n",
    "# 01-01-01 파일 열기"
   ]
  },
  {
   "cell_type": "code",
   "execution_count": 6,
   "metadata": {},
   "outputs": [
    {
     "name": "stdout",
     "output_type": "stream",
     "text": [
      "개구리 소년 빰빠바 개구리 소년 빰빠바\n",
      "\n",
      "\n",
      "\n",
      "네가 울면 무지개 연못에 비가 온단다\n",
      "\n",
      "비바람 몰아쳐도 이겨내고\n",
      "\n",
      "일곱번 넘어져도 일어나라\n",
      "\n",
      "울지말고 일어나 피리를 불어라\n",
      "\n",
      "삘릴리 개굴개굴 삘릴릴리\n",
      "[]\n"
     ]
    }
   ],
   "source": [
    "f = open(\"./frog_song\")\n",
    "\n",
    "line = f.readline()\n",
    "print(line)\n",
    "\n",
    "while True:\n",
    "\tline = f.readline()\n",
    "\n",
    "\tif not line:\n",
    "\t\tbreak\n",
    "\n",
    "\tprint(line)\n",
    "\n",
    "lines = f.readlines()\n",
    "print(lines)\n",
    "\n",
    "f.close()"
   ]
  },
  {
   "cell_type": "code",
   "execution_count": null,
   "metadata": {},
   "outputs": [],
   "source": [
    "f2 = open(\"./frog_song\", 'a') # w는 덮어쓰기, a는 이어쓰기\n",
    "\n",
    "f2.write(\"노래 끝\")\n",
    "f2.close()\n",
    "\n",
    "f3 = open('./frog_song', 'r')\n"
   ]
  }
 ],
 "metadata": {
  "kernelspec": {
   "display_name": "Python 3",
   "language": "python",
   "name": "python3"
  },
  "language_info": {
   "codemirror_mode": {
    "name": "ipython",
    "version": 3
   },
   "file_extension": ".py",
   "mimetype": "text/x-python",
   "name": "python",
   "nbconvert_exporter": "python",
   "pygments_lexer": "ipython3",
   "version": "3.12.4"
  }
 },
 "nbformat": 4,
 "nbformat_minor": 2
}
