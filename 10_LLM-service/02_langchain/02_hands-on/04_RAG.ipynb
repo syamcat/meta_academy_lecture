{
 "cells": [
  {
   "cell_type": "markdown",
   "metadata": {},
   "source": [
    "# 간단한 RAG(Retrieval Augmented Generation) 만들기\n",
    "> 기반 정보를 vector store에 정보해두고 질문이 들어오면 retrieve과정을 거쳐 질문에 해당하는 부분을 찾아서 LLM에 넣고 답변을 완성시킨다."
   ]
  },
  {
   "cell_type": "markdown",
   "metadata": {},
   "source": [
    "1. 랭스미스 연결"
   ]
  },
  {
   "cell_type": "code",
   "execution_count": 15,
   "metadata": {},
   "outputs": [
    {
     "data": {
      "text/plain": [
       "True"
      ]
     },
     "execution_count": 15,
     "metadata": {},
     "output_type": "execute_result"
    }
   ],
   "source": [
    "from dotenv import load_dotenv\n",
    "\n",
    "load_dotenv(dotenv_path=\"../99_env/.env\")"
   ]
  },
  {
   "cell_type": "markdown",
   "metadata": {},
   "source": [
    "2. 필요 패키지 설치"
   ]
  },
  {
   "cell_type": "code",
   "execution_count": 2,
   "metadata": {
    "vscode": {
     "languageId": "shellscript"
    }
   },
   "outputs": [
    {
     "name": "stdout",
     "output_type": "stream",
     "text": [
      "Requirement already satisfied: langchain in /Users/dohyun/anaconda3/envs/pystudy_env/lib/python3.12/site-packages (0.2.16)\n",
      "Collecting langchain-chroma\n",
      "  Using cached langchain_chroma-0.1.3-py3-none-any.whl.metadata (1.5 kB)\n",
      "Requirement already satisfied: langchain-openai in /Users/dohyun/anaconda3/envs/pystudy_env/lib/python3.12/site-packages (0.1.23)\n",
      "Requirement already satisfied: PyYAML>=5.3 in /Users/dohyun/anaconda3/envs/pystudy_env/lib/python3.12/site-packages (from langchain) (6.0.2)\n",
      "Requirement already satisfied: SQLAlchemy<3,>=1.4 in /Users/dohyun/anaconda3/envs/pystudy_env/lib/python3.12/site-packages (from langchain) (2.0.34)\n",
      "Requirement already satisfied: aiohttp<4.0.0,>=3.8.3 in /Users/dohyun/anaconda3/envs/pystudy_env/lib/python3.12/site-packages (from langchain) (3.10.5)\n",
      "Requirement already satisfied: langchain-core<0.3.0,>=0.2.38 in /Users/dohyun/anaconda3/envs/pystudy_env/lib/python3.12/site-packages (from langchain) (0.2.38)\n",
      "Requirement already satisfied: langchain-text-splitters<0.3.0,>=0.2.0 in /Users/dohyun/anaconda3/envs/pystudy_env/lib/python3.12/site-packages (from langchain) (0.2.4)\n",
      "Requirement already satisfied: langsmith<0.2.0,>=0.1.17 in /Users/dohyun/anaconda3/envs/pystudy_env/lib/python3.12/site-packages (from langchain) (0.1.114)\n",
      "Requirement already satisfied: numpy<2.0.0,>=1.26.0 in /Users/dohyun/anaconda3/envs/pystudy_env/lib/python3.12/site-packages (from langchain) (1.26.4)\n",
      "Requirement already satisfied: pydantic<3,>=1 in /Users/dohyun/anaconda3/envs/pystudy_env/lib/python3.12/site-packages (from langchain) (2.8.2)\n",
      "Requirement already satisfied: requests<3,>=2 in /Users/dohyun/anaconda3/envs/pystudy_env/lib/python3.12/site-packages (from langchain) (2.32.3)\n",
      "Requirement already satisfied: tenacity!=8.4.0,<9.0.0,>=8.1.0 in /Users/dohyun/anaconda3/envs/pystudy_env/lib/python3.12/site-packages (from langchain) (8.5.0)\n",
      "Collecting chromadb!=0.5.4,!=0.5.5,<0.6.0,>=0.4.0 (from langchain-chroma)\n",
      "  Using cached chromadb-0.5.3-py3-none-any.whl.metadata (6.8 kB)\n",
      "Collecting fastapi<1,>=0.95.2 (from langchain-chroma)\n",
      "  Using cached fastapi-0.113.0-py3-none-any.whl.metadata (27 kB)\n",
      "Requirement already satisfied: openai<2.0.0,>=1.40.0 in /Users/dohyun/anaconda3/envs/pystudy_env/lib/python3.12/site-packages (from langchain-openai) (1.43.0)\n",
      "Requirement already satisfied: tiktoken<1,>=0.7 in /Users/dohyun/anaconda3/envs/pystudy_env/lib/python3.12/site-packages (from langchain-openai) (0.7.0)\n",
      "Requirement already satisfied: aiohappyeyeballs>=2.3.0 in /Users/dohyun/anaconda3/envs/pystudy_env/lib/python3.12/site-packages (from aiohttp<4.0.0,>=3.8.3->langchain) (2.4.0)\n",
      "Requirement already satisfied: aiosignal>=1.1.2 in /Users/dohyun/anaconda3/envs/pystudy_env/lib/python3.12/site-packages (from aiohttp<4.0.0,>=3.8.3->langchain) (1.3.1)\n",
      "Requirement already satisfied: attrs>=17.3.0 in /Users/dohyun/anaconda3/envs/pystudy_env/lib/python3.12/site-packages (from aiohttp<4.0.0,>=3.8.3->langchain) (24.2.0)\n",
      "Requirement already satisfied: frozenlist>=1.1.1 in /Users/dohyun/anaconda3/envs/pystudy_env/lib/python3.12/site-packages (from aiohttp<4.0.0,>=3.8.3->langchain) (1.4.1)\n",
      "Requirement already satisfied: multidict<7.0,>=4.5 in /Users/dohyun/anaconda3/envs/pystudy_env/lib/python3.12/site-packages (from aiohttp<4.0.0,>=3.8.3->langchain) (6.0.5)\n",
      "Requirement already satisfied: yarl<2.0,>=1.0 in /Users/dohyun/anaconda3/envs/pystudy_env/lib/python3.12/site-packages (from aiohttp<4.0.0,>=3.8.3->langchain) (1.9.11)\n",
      "Collecting build>=1.0.3 (from chromadb!=0.5.4,!=0.5.5,<0.6.0,>=0.4.0->langchain-chroma)\n",
      "  Using cached build-1.2.1-py3-none-any.whl.metadata (4.3 kB)\n",
      "Collecting chroma-hnswlib==0.7.3 (from chromadb!=0.5.4,!=0.5.5,<0.6.0,>=0.4.0->langchain-chroma)\n",
      "  Using cached chroma-hnswlib-0.7.3.tar.gz (31 kB)\n",
      "  Installing build dependencies ... \u001b[?25ldone\n",
      "\u001b[?25h  Getting requirements to build wheel ... \u001b[?25ldone\n",
      "\u001b[?25h  Preparing metadata (pyproject.toml) ... \u001b[?25ldone\n",
      "\u001b[?25hCollecting uvicorn>=0.18.3 (from uvicorn[standard]>=0.18.3->chromadb!=0.5.4,!=0.5.5,<0.6.0,>=0.4.0->langchain-chroma)\n",
      "  Using cached uvicorn-0.30.6-py3-none-any.whl.metadata (6.6 kB)\n",
      "Collecting posthog>=2.4.0 (from chromadb!=0.5.4,!=0.5.5,<0.6.0,>=0.4.0->langchain-chroma)\n",
      "  Using cached posthog-3.6.3-py2.py3-none-any.whl.metadata (2.0 kB)\n",
      "Requirement already satisfied: typing-extensions>=4.5.0 in /Users/dohyun/anaconda3/envs/pystudy_env/lib/python3.12/site-packages (from chromadb!=0.5.4,!=0.5.5,<0.6.0,>=0.4.0->langchain-chroma) (4.12.2)\n",
      "Collecting onnxruntime>=1.14.1 (from chromadb!=0.5.4,!=0.5.5,<0.6.0,>=0.4.0->langchain-chroma)\n",
      "  Using cached onnxruntime-1.19.2-cp312-cp312-macosx_11_0_universal2.whl.metadata (4.5 kB)\n",
      "Collecting opentelemetry-api>=1.2.0 (from chromadb!=0.5.4,!=0.5.5,<0.6.0,>=0.4.0->langchain-chroma)\n",
      "  Using cached opentelemetry_api-1.27.0-py3-none-any.whl.metadata (1.4 kB)\n",
      "Collecting opentelemetry-exporter-otlp-proto-grpc>=1.2.0 (from chromadb!=0.5.4,!=0.5.5,<0.6.0,>=0.4.0->langchain-chroma)\n",
      "  Using cached opentelemetry_exporter_otlp_proto_grpc-1.27.0-py3-none-any.whl.metadata (2.3 kB)\n",
      "Collecting opentelemetry-instrumentation-fastapi>=0.41b0 (from chromadb!=0.5.4,!=0.5.5,<0.6.0,>=0.4.0->langchain-chroma)\n",
      "  Using cached opentelemetry_instrumentation_fastapi-0.48b0-py3-none-any.whl.metadata (2.1 kB)\n",
      "Collecting opentelemetry-sdk>=1.2.0 (from chromadb!=0.5.4,!=0.5.5,<0.6.0,>=0.4.0->langchain-chroma)\n",
      "  Using cached opentelemetry_sdk-1.27.0-py3-none-any.whl.metadata (1.5 kB)\n",
      "Collecting tokenizers>=0.13.2 (from chromadb!=0.5.4,!=0.5.5,<0.6.0,>=0.4.0->langchain-chroma)\n",
      "  Using cached tokenizers-0.20.0-cp312-cp312-macosx_11_0_arm64.whl.metadata (6.7 kB)\n",
      "Collecting pypika>=0.48.9 (from chromadb!=0.5.4,!=0.5.5,<0.6.0,>=0.4.0->langchain-chroma)\n",
      "  Using cached PyPika-0.48.9.tar.gz (67 kB)\n",
      "  Installing build dependencies ... \u001b[?25ldone\n",
      "\u001b[?25h  Getting requirements to build wheel ... \u001b[?25ldone\n",
      "\u001b[?25h  Preparing metadata (pyproject.toml) ... \u001b[?25ldone\n",
      "\u001b[?25hRequirement already satisfied: tqdm>=4.65.0 in /Users/dohyun/anaconda3/envs/pystudy_env/lib/python3.12/site-packages (from chromadb!=0.5.4,!=0.5.5,<0.6.0,>=0.4.0->langchain-chroma) (4.66.5)\n",
      "Requirement already satisfied: overrides>=7.3.1 in /Users/dohyun/anaconda3/envs/pystudy_env/lib/python3.12/site-packages (from chromadb!=0.5.4,!=0.5.5,<0.6.0,>=0.4.0->langchain-chroma) (7.7.0)\n",
      "Collecting importlib-resources (from chromadb!=0.5.4,!=0.5.5,<0.6.0,>=0.4.0->langchain-chroma)\n",
      "  Using cached importlib_resources-6.4.4-py3-none-any.whl.metadata (4.0 kB)\n",
      "Collecting grpcio>=1.58.0 (from chromadb!=0.5.4,!=0.5.5,<0.6.0,>=0.4.0->langchain-chroma)\n",
      "  Using cached grpcio-1.66.1-cp312-cp312-macosx_10_9_universal2.whl.metadata (3.9 kB)\n",
      "Collecting bcrypt>=4.0.1 (from chromadb!=0.5.4,!=0.5.5,<0.6.0,>=0.4.0->langchain-chroma)\n",
      "  Using cached bcrypt-4.2.0-cp39-abi3-macosx_10_12_universal2.whl.metadata (9.6 kB)\n",
      "Collecting typer>=0.9.0 (from chromadb!=0.5.4,!=0.5.5,<0.6.0,>=0.4.0->langchain-chroma)\n",
      "  Using cached typer-0.12.5-py3-none-any.whl.metadata (15 kB)\n",
      "Collecting kubernetes>=28.1.0 (from chromadb!=0.5.4,!=0.5.5,<0.6.0,>=0.4.0->langchain-chroma)\n",
      "  Using cached kubernetes-30.1.0-py2.py3-none-any.whl.metadata (1.5 kB)\n",
      "Collecting mmh3>=4.0.1 (from chromadb!=0.5.4,!=0.5.5,<0.6.0,>=0.4.0->langchain-chroma)\n",
      "  Using cached mmh3-4.1.0-cp312-cp312-macosx_11_0_arm64.whl.metadata (13 kB)\n",
      "Requirement already satisfied: orjson>=3.9.12 in /Users/dohyun/anaconda3/envs/pystudy_env/lib/python3.12/site-packages (from chromadb!=0.5.4,!=0.5.5,<0.6.0,>=0.4.0->langchain-chroma) (3.10.7)\n",
      "Requirement already satisfied: httpx>=0.27.0 in /Users/dohyun/anaconda3/envs/pystudy_env/lib/python3.12/site-packages (from chromadb!=0.5.4,!=0.5.5,<0.6.0,>=0.4.0->langchain-chroma) (0.27.2)\n",
      "Collecting starlette<0.39.0,>=0.37.2 (from fastapi<1,>=0.95.2->langchain-chroma)\n",
      "  Using cached starlette-0.38.4-py3-none-any.whl.metadata (6.0 kB)\n",
      "Requirement already satisfied: jsonpatch<2.0,>=1.33 in /Users/dohyun/anaconda3/envs/pystudy_env/lib/python3.12/site-packages (from langchain-core<0.3.0,>=0.2.38->langchain) (1.33)\n",
      "Requirement already satisfied: packaging<25,>=23.2 in /Users/dohyun/anaconda3/envs/pystudy_env/lib/python3.12/site-packages (from langchain-core<0.3.0,>=0.2.38->langchain) (24.1)\n",
      "Requirement already satisfied: anyio<5,>=3.5.0 in /Users/dohyun/anaconda3/envs/pystudy_env/lib/python3.12/site-packages (from openai<2.0.0,>=1.40.0->langchain-openai) (4.4.0)\n",
      "Requirement already satisfied: distro<2,>=1.7.0 in /Users/dohyun/anaconda3/envs/pystudy_env/lib/python3.12/site-packages (from openai<2.0.0,>=1.40.0->langchain-openai) (1.9.0)\n",
      "Requirement already satisfied: jiter<1,>=0.4.0 in /Users/dohyun/anaconda3/envs/pystudy_env/lib/python3.12/site-packages (from openai<2.0.0,>=1.40.0->langchain-openai) (0.5.0)\n",
      "Requirement already satisfied: sniffio in /Users/dohyun/anaconda3/envs/pystudy_env/lib/python3.12/site-packages (from openai<2.0.0,>=1.40.0->langchain-openai) (1.3.1)\n",
      "Requirement already satisfied: annotated-types>=0.4.0 in /Users/dohyun/anaconda3/envs/pystudy_env/lib/python3.12/site-packages (from pydantic<3,>=1->langchain) (0.7.0)\n",
      "Requirement already satisfied: pydantic-core==2.20.1 in /Users/dohyun/anaconda3/envs/pystudy_env/lib/python3.12/site-packages (from pydantic<3,>=1->langchain) (2.20.1)\n",
      "Requirement already satisfied: charset-normalizer<4,>=2 in /Users/dohyun/anaconda3/envs/pystudy_env/lib/python3.12/site-packages (from requests<3,>=2->langchain) (3.3.2)\n",
      "Requirement already satisfied: idna<4,>=2.5 in /Users/dohyun/anaconda3/envs/pystudy_env/lib/python3.12/site-packages (from requests<3,>=2->langchain) (3.8)\n",
      "Requirement already satisfied: urllib3<3,>=1.21.1 in /Users/dohyun/anaconda3/envs/pystudy_env/lib/python3.12/site-packages (from requests<3,>=2->langchain) (2.2.2)\n",
      "Requirement already satisfied: certifi>=2017.4.17 in /Users/dohyun/anaconda3/envs/pystudy_env/lib/python3.12/site-packages (from requests<3,>=2->langchain) (2024.8.30)\n",
      "Requirement already satisfied: regex>=2022.1.18 in /Users/dohyun/anaconda3/envs/pystudy_env/lib/python3.12/site-packages (from tiktoken<1,>=0.7->langchain-openai) (2024.7.24)\n",
      "Collecting pyproject_hooks (from build>=1.0.3->chromadb!=0.5.4,!=0.5.5,<0.6.0,>=0.4.0->langchain-chroma)\n",
      "  Using cached pyproject_hooks-1.1.0-py3-none-any.whl.metadata (1.3 kB)\n",
      "Requirement already satisfied: httpcore==1.* in /Users/dohyun/anaconda3/envs/pystudy_env/lib/python3.12/site-packages (from httpx>=0.27.0->chromadb!=0.5.4,!=0.5.5,<0.6.0,>=0.4.0->langchain-chroma) (1.0.5)\n",
      "Requirement already satisfied: h11<0.15,>=0.13 in /Users/dohyun/anaconda3/envs/pystudy_env/lib/python3.12/site-packages (from httpcore==1.*->httpx>=0.27.0->chromadb!=0.5.4,!=0.5.5,<0.6.0,>=0.4.0->langchain-chroma) (0.14.0)\n",
      "Requirement already satisfied: jsonpointer>=1.9 in /Users/dohyun/anaconda3/envs/pystudy_env/lib/python3.12/site-packages (from jsonpatch<2.0,>=1.33->langchain-core<0.3.0,>=0.2.38->langchain) (3.0.0)\n",
      "Requirement already satisfied: six>=1.9.0 in /Users/dohyun/anaconda3/envs/pystudy_env/lib/python3.12/site-packages (from kubernetes>=28.1.0->chromadb!=0.5.4,!=0.5.5,<0.6.0,>=0.4.0->langchain-chroma) (1.16.0)\n",
      "Requirement already satisfied: python-dateutil>=2.5.3 in /Users/dohyun/anaconda3/envs/pystudy_env/lib/python3.12/site-packages (from kubernetes>=28.1.0->chromadb!=0.5.4,!=0.5.5,<0.6.0,>=0.4.0->langchain-chroma) (2.9.0.post0)\n",
      "Collecting google-auth>=1.0.1 (from kubernetes>=28.1.0->chromadb!=0.5.4,!=0.5.5,<0.6.0,>=0.4.0->langchain-chroma)\n",
      "  Using cached google_auth-2.34.0-py2.py3-none-any.whl.metadata (4.7 kB)\n",
      "Requirement already satisfied: websocket-client!=0.40.0,!=0.41.*,!=0.42.*,>=0.32.0 in /Users/dohyun/anaconda3/envs/pystudy_env/lib/python3.12/site-packages (from kubernetes>=28.1.0->chromadb!=0.5.4,!=0.5.5,<0.6.0,>=0.4.0->langchain-chroma) (1.8.0)\n",
      "Collecting requests-oauthlib (from kubernetes>=28.1.0->chromadb!=0.5.4,!=0.5.5,<0.6.0,>=0.4.0->langchain-chroma)\n",
      "  Using cached requests_oauthlib-2.0.0-py2.py3-none-any.whl.metadata (11 kB)\n",
      "Collecting oauthlib>=3.2.2 (from kubernetes>=28.1.0->chromadb!=0.5.4,!=0.5.5,<0.6.0,>=0.4.0->langchain-chroma)\n",
      "  Using cached oauthlib-3.2.2-py3-none-any.whl.metadata (7.5 kB)\n",
      "Collecting coloredlogs (from onnxruntime>=1.14.1->chromadb!=0.5.4,!=0.5.5,<0.6.0,>=0.4.0->langchain-chroma)\n",
      "  Using cached coloredlogs-15.0.1-py2.py3-none-any.whl.metadata (12 kB)\n",
      "Collecting flatbuffers (from onnxruntime>=1.14.1->chromadb!=0.5.4,!=0.5.5,<0.6.0,>=0.4.0->langchain-chroma)\n",
      "  Using cached flatbuffers-24.3.25-py2.py3-none-any.whl.metadata (850 bytes)\n",
      "Collecting protobuf (from onnxruntime>=1.14.1->chromadb!=0.5.4,!=0.5.5,<0.6.0,>=0.4.0->langchain-chroma)\n",
      "  Using cached protobuf-5.28.0-cp38-abi3-macosx_10_9_universal2.whl.metadata (592 bytes)\n",
      "Collecting sympy (from onnxruntime>=1.14.1->chromadb!=0.5.4,!=0.5.5,<0.6.0,>=0.4.0->langchain-chroma)\n",
      "  Using cached sympy-1.13.2-py3-none-any.whl.metadata (12 kB)\n",
      "Collecting deprecated>=1.2.6 (from opentelemetry-api>=1.2.0->chromadb!=0.5.4,!=0.5.5,<0.6.0,>=0.4.0->langchain-chroma)\n",
      "  Using cached Deprecated-1.2.14-py2.py3-none-any.whl.metadata (5.4 kB)\n",
      "Collecting importlib-metadata<=8.4.0,>=6.0 (from opentelemetry-api>=1.2.0->chromadb!=0.5.4,!=0.5.5,<0.6.0,>=0.4.0->langchain-chroma)\n",
      "  Using cached importlib_metadata-8.4.0-py3-none-any.whl.metadata (4.7 kB)\n",
      "Collecting googleapis-common-protos~=1.52 (from opentelemetry-exporter-otlp-proto-grpc>=1.2.0->chromadb!=0.5.4,!=0.5.5,<0.6.0,>=0.4.0->langchain-chroma)\n",
      "  Using cached googleapis_common_protos-1.65.0-py2.py3-none-any.whl.metadata (1.5 kB)\n",
      "Collecting opentelemetry-exporter-otlp-proto-common==1.27.0 (from opentelemetry-exporter-otlp-proto-grpc>=1.2.0->chromadb!=0.5.4,!=0.5.5,<0.6.0,>=0.4.0->langchain-chroma)\n",
      "  Using cached opentelemetry_exporter_otlp_proto_common-1.27.0-py3-none-any.whl.metadata (1.8 kB)\n",
      "Collecting opentelemetry-proto==1.27.0 (from opentelemetry-exporter-otlp-proto-grpc>=1.2.0->chromadb!=0.5.4,!=0.5.5,<0.6.0,>=0.4.0->langchain-chroma)\n",
      "  Using cached opentelemetry_proto-1.27.0-py3-none-any.whl.metadata (2.3 kB)\n",
      "Collecting protobuf (from onnxruntime>=1.14.1->chromadb!=0.5.4,!=0.5.5,<0.6.0,>=0.4.0->langchain-chroma)\n",
      "  Using cached protobuf-4.25.4-cp37-abi3-macosx_10_9_universal2.whl.metadata (541 bytes)\n",
      "Collecting opentelemetry-instrumentation-asgi==0.48b0 (from opentelemetry-instrumentation-fastapi>=0.41b0->chromadb!=0.5.4,!=0.5.5,<0.6.0,>=0.4.0->langchain-chroma)\n",
      "  Using cached opentelemetry_instrumentation_asgi-0.48b0-py3-none-any.whl.metadata (2.0 kB)\n",
      "Collecting opentelemetry-instrumentation==0.48b0 (from opentelemetry-instrumentation-fastapi>=0.41b0->chromadb!=0.5.4,!=0.5.5,<0.6.0,>=0.4.0->langchain-chroma)\n",
      "  Using cached opentelemetry_instrumentation-0.48b0-py3-none-any.whl.metadata (6.1 kB)\n",
      "Collecting opentelemetry-semantic-conventions==0.48b0 (from opentelemetry-instrumentation-fastapi>=0.41b0->chromadb!=0.5.4,!=0.5.5,<0.6.0,>=0.4.0->langchain-chroma)\n",
      "  Using cached opentelemetry_semantic_conventions-0.48b0-py3-none-any.whl.metadata (2.4 kB)\n",
      "Collecting opentelemetry-util-http==0.48b0 (from opentelemetry-instrumentation-fastapi>=0.41b0->chromadb!=0.5.4,!=0.5.5,<0.6.0,>=0.4.0->langchain-chroma)\n",
      "  Using cached opentelemetry_util_http-0.48b0-py3-none-any.whl.metadata (2.5 kB)\n",
      "Requirement already satisfied: setuptools>=16.0 in /Users/dohyun/anaconda3/envs/pystudy_env/lib/python3.12/site-packages (from opentelemetry-instrumentation==0.48b0->opentelemetry-instrumentation-fastapi>=0.41b0->chromadb!=0.5.4,!=0.5.5,<0.6.0,>=0.4.0->langchain-chroma) (72.1.0)\n",
      "Collecting wrapt<2.0.0,>=1.0.0 (from opentelemetry-instrumentation==0.48b0->opentelemetry-instrumentation-fastapi>=0.41b0->chromadb!=0.5.4,!=0.5.5,<0.6.0,>=0.4.0->langchain-chroma)\n",
      "  Using cached wrapt-1.16.0-cp312-cp312-macosx_11_0_arm64.whl.metadata (6.6 kB)\n",
      "Collecting asgiref~=3.0 (from opentelemetry-instrumentation-asgi==0.48b0->opentelemetry-instrumentation-fastapi>=0.41b0->chromadb!=0.5.4,!=0.5.5,<0.6.0,>=0.4.0->langchain-chroma)\n",
      "  Using cached asgiref-3.8.1-py3-none-any.whl.metadata (9.3 kB)\n",
      "Collecting monotonic>=1.5 (from posthog>=2.4.0->chromadb!=0.5.4,!=0.5.5,<0.6.0,>=0.4.0->langchain-chroma)\n",
      "  Using cached monotonic-1.6-py2.py3-none-any.whl.metadata (1.5 kB)\n",
      "Collecting backoff>=1.10.0 (from posthog>=2.4.0->chromadb!=0.5.4,!=0.5.5,<0.6.0,>=0.4.0->langchain-chroma)\n",
      "  Using cached backoff-2.2.1-py3-none-any.whl.metadata (14 kB)\n",
      "Collecting huggingface-hub<1.0,>=0.16.4 (from tokenizers>=0.13.2->chromadb!=0.5.4,!=0.5.5,<0.6.0,>=0.4.0->langchain-chroma)\n",
      "  Using cached huggingface_hub-0.24.6-py3-none-any.whl.metadata (13 kB)\n",
      "Collecting click>=8.0.0 (from typer>=0.9.0->chromadb!=0.5.4,!=0.5.5,<0.6.0,>=0.4.0->langchain-chroma)\n",
      "  Using cached click-8.1.7-py3-none-any.whl.metadata (3.0 kB)\n",
      "Collecting shellingham>=1.3.0 (from typer>=0.9.0->chromadb!=0.5.4,!=0.5.5,<0.6.0,>=0.4.0->langchain-chroma)\n",
      "  Using cached shellingham-1.5.4-py2.py3-none-any.whl.metadata (3.5 kB)\n",
      "Collecting rich>=10.11.0 (from typer>=0.9.0->chromadb!=0.5.4,!=0.5.5,<0.6.0,>=0.4.0->langchain-chroma)\n",
      "  Using cached rich-13.8.0-py3-none-any.whl.metadata (18 kB)\n",
      "Collecting httptools>=0.5.0 (from uvicorn[standard]>=0.18.3->chromadb!=0.5.4,!=0.5.5,<0.6.0,>=0.4.0->langchain-chroma)\n",
      "  Using cached httptools-0.6.1-cp312-cp312-macosx_10_9_universal2.whl.metadata (3.6 kB)\n",
      "Requirement already satisfied: python-dotenv>=0.13 in /Users/dohyun/anaconda3/envs/pystudy_env/lib/python3.12/site-packages (from uvicorn[standard]>=0.18.3->chromadb!=0.5.4,!=0.5.5,<0.6.0,>=0.4.0->langchain-chroma) (1.0.1)\n",
      "Collecting uvloop!=0.15.0,!=0.15.1,>=0.14.0 (from uvicorn[standard]>=0.18.3->chromadb!=0.5.4,!=0.5.5,<0.6.0,>=0.4.0->langchain-chroma)\n",
      "  Using cached uvloop-0.20.0-cp312-cp312-macosx_10_9_universal2.whl.metadata (4.9 kB)\n",
      "Collecting watchfiles>=0.13 (from uvicorn[standard]>=0.18.3->chromadb!=0.5.4,!=0.5.5,<0.6.0,>=0.4.0->langchain-chroma)\n",
      "  Using cached watchfiles-0.24.0-cp312-cp312-macosx_11_0_arm64.whl.metadata (4.9 kB)\n",
      "Collecting websockets>=10.4 (from uvicorn[standard]>=0.18.3->chromadb!=0.5.4,!=0.5.5,<0.6.0,>=0.4.0->langchain-chroma)\n",
      "  Using cached websockets-13.0.1-cp312-cp312-macosx_11_0_arm64.whl.metadata (6.7 kB)\n",
      "Collecting cachetools<6.0,>=2.0.0 (from google-auth>=1.0.1->kubernetes>=28.1.0->chromadb!=0.5.4,!=0.5.5,<0.6.0,>=0.4.0->langchain-chroma)\n",
      "  Using cached cachetools-5.5.0-py3-none-any.whl.metadata (5.3 kB)\n",
      "Collecting pyasn1-modules>=0.2.1 (from google-auth>=1.0.1->kubernetes>=28.1.0->chromadb!=0.5.4,!=0.5.5,<0.6.0,>=0.4.0->langchain-chroma)\n",
      "  Using cached pyasn1_modules-0.4.0-py3-none-any.whl.metadata (3.4 kB)\n",
      "Collecting rsa<5,>=3.1.4 (from google-auth>=1.0.1->kubernetes>=28.1.0->chromadb!=0.5.4,!=0.5.5,<0.6.0,>=0.4.0->langchain-chroma)\n",
      "  Using cached rsa-4.9-py3-none-any.whl.metadata (4.2 kB)\n",
      "Collecting filelock (from huggingface-hub<1.0,>=0.16.4->tokenizers>=0.13.2->chromadb!=0.5.4,!=0.5.5,<0.6.0,>=0.4.0->langchain-chroma)\n",
      "  Using cached filelock-3.15.4-py3-none-any.whl.metadata (2.9 kB)\n",
      "Collecting fsspec>=2023.5.0 (from huggingface-hub<1.0,>=0.16.4->tokenizers>=0.13.2->chromadb!=0.5.4,!=0.5.5,<0.6.0,>=0.4.0->langchain-chroma)\n",
      "  Using cached fsspec-2024.9.0-py3-none-any.whl.metadata (11 kB)\n",
      "Collecting zipp>=0.5 (from importlib-metadata<=8.4.0,>=6.0->opentelemetry-api>=1.2.0->chromadb!=0.5.4,!=0.5.5,<0.6.0,>=0.4.0->langchain-chroma)\n",
      "  Using cached zipp-3.20.1-py3-none-any.whl.metadata (3.7 kB)\n",
      "Collecting markdown-it-py>=2.2.0 (from rich>=10.11.0->typer>=0.9.0->chromadb!=0.5.4,!=0.5.5,<0.6.0,>=0.4.0->langchain-chroma)\n",
      "  Using cached markdown_it_py-3.0.0-py3-none-any.whl.metadata (6.9 kB)\n",
      "Requirement already satisfied: pygments<3.0.0,>=2.13.0 in /Users/dohyun/anaconda3/envs/pystudy_env/lib/python3.12/site-packages (from rich>=10.11.0->typer>=0.9.0->chromadb!=0.5.4,!=0.5.5,<0.6.0,>=0.4.0->langchain-chroma) (2.18.0)\n",
      "Collecting humanfriendly>=9.1 (from coloredlogs->onnxruntime>=1.14.1->chromadb!=0.5.4,!=0.5.5,<0.6.0,>=0.4.0->langchain-chroma)\n",
      "  Using cached humanfriendly-10.0-py2.py3-none-any.whl.metadata (9.2 kB)\n",
      "Collecting mpmath<1.4,>=1.1.0 (from sympy->onnxruntime>=1.14.1->chromadb!=0.5.4,!=0.5.5,<0.6.0,>=0.4.0->langchain-chroma)\n",
      "  Using cached mpmath-1.3.0-py3-none-any.whl.metadata (8.6 kB)\n",
      "Collecting mdurl~=0.1 (from markdown-it-py>=2.2.0->rich>=10.11.0->typer>=0.9.0->chromadb!=0.5.4,!=0.5.5,<0.6.0,>=0.4.0->langchain-chroma)\n",
      "  Using cached mdurl-0.1.2-py3-none-any.whl.metadata (1.6 kB)\n",
      "Collecting pyasn1<0.7.0,>=0.4.6 (from pyasn1-modules>=0.2.1->google-auth>=1.0.1->kubernetes>=28.1.0->chromadb!=0.5.4,!=0.5.5,<0.6.0,>=0.4.0->langchain-chroma)\n",
      "  Using cached pyasn1-0.6.0-py2.py3-none-any.whl.metadata (8.3 kB)\n",
      "Using cached langchain_chroma-0.1.3-py3-none-any.whl (10 kB)\n",
      "Using cached chromadb-0.5.3-py3-none-any.whl (559 kB)\n",
      "Using cached fastapi-0.113.0-py3-none-any.whl (93 kB)\n",
      "Using cached bcrypt-4.2.0-cp39-abi3-macosx_10_12_universal2.whl (472 kB)\n",
      "Using cached build-1.2.1-py3-none-any.whl (21 kB)\n",
      "Using cached grpcio-1.66.1-cp312-cp312-macosx_10_9_universal2.whl (10.6 MB)\n",
      "Using cached kubernetes-30.1.0-py2.py3-none-any.whl (1.7 MB)\n",
      "Using cached mmh3-4.1.0-cp312-cp312-macosx_11_0_arm64.whl (30 kB)\n",
      "Downloading onnxruntime-1.19.2-cp312-cp312-macosx_11_0_universal2.whl (16.8 MB)\n",
      "\u001b[2K   \u001b[90m━━━━━━━━━━━━━━━━━━━━━━━━━━━━━━━━━━━━━━━━\u001b[0m \u001b[32m16.8/16.8 MB\u001b[0m \u001b[31m90.4 kB/s\u001b[0m eta \u001b[36m0:00:00\u001b[0m00:04\u001b[0m00:07\u001b[0mm\n",
      "\u001b[?25hDownloading opentelemetry_api-1.27.0-py3-none-any.whl (63 kB)\n",
      "Downloading opentelemetry_exporter_otlp_proto_grpc-1.27.0-py3-none-any.whl (18 kB)\n",
      "Downloading opentelemetry_exporter_otlp_proto_common-1.27.0-py3-none-any.whl (17 kB)\n",
      "Downloading opentelemetry_proto-1.27.0-py3-none-any.whl (52 kB)\n",
      "Downloading opentelemetry_instrumentation_fastapi-0.48b0-py3-none-any.whl (11 kB)\n",
      "Downloading opentelemetry_instrumentation-0.48b0-py3-none-any.whl (29 kB)\n",
      "Downloading opentelemetry_instrumentation_asgi-0.48b0-py3-none-any.whl (15 kB)\n",
      "Downloading opentelemetry_semantic_conventions-0.48b0-py3-none-any.whl (149 kB)\n",
      "Downloading opentelemetry_util_http-0.48b0-py3-none-any.whl (6.9 kB)\n",
      "Downloading opentelemetry_sdk-1.27.0-py3-none-any.whl (110 kB)\n",
      "Downloading posthog-3.6.3-py2.py3-none-any.whl (53 kB)\n",
      "Downloading starlette-0.38.4-py3-none-any.whl (71 kB)\n",
      "Downloading tokenizers-0.20.0-cp312-cp312-macosx_11_0_arm64.whl (2.5 MB)\n",
      "\u001b[2K   \u001b[90m━━━━━━━━━━━━━━━━━━━━━━━━━━━━━━━━━━━━━━━━\u001b[0m \u001b[32m2.5/2.5 MB\u001b[0m \u001b[31m88.4 kB/s\u001b[0m eta \u001b[36m0:00:00\u001b[0ma \u001b[36m0:00:02\u001b[0mm\n",
      "\u001b[?25hDownloading typer-0.12.5-py3-none-any.whl (47 kB)\n",
      "Downloading uvicorn-0.30.6-py3-none-any.whl (62 kB)\n",
      "Downloading importlib_resources-6.4.4-py3-none-any.whl (35 kB)\n",
      "Downloading backoff-2.2.1-py3-none-any.whl (15 kB)\n",
      "Downloading click-8.1.7-py3-none-any.whl (97 kB)\n",
      "Downloading Deprecated-1.2.14-py2.py3-none-any.whl (9.6 kB)\n",
      "Downloading google_auth-2.34.0-py2.py3-none-any.whl (200 kB)\n",
      "Downloading googleapis_common_protos-1.65.0-py2.py3-none-any.whl (220 kB)\n",
      "Downloading httptools-0.6.1-cp312-cp312-macosx_10_9_universal2.whl (146 kB)\n",
      "Downloading huggingface_hub-0.24.6-py3-none-any.whl (417 kB)\n",
      "Downloading importlib_metadata-8.4.0-py3-none-any.whl (26 kB)\n",
      "Downloading monotonic-1.6-py2.py3-none-any.whl (8.2 kB)\n",
      "Downloading oauthlib-3.2.2-py3-none-any.whl (151 kB)\n",
      "Downloading protobuf-4.25.4-cp37-abi3-macosx_10_9_universal2.whl (394 kB)\n",
      "Downloading rich-13.8.0-py3-none-any.whl (241 kB)\n",
      "Downloading shellingham-1.5.4-py2.py3-none-any.whl (9.8 kB)\n",
      "Downloading uvloop-0.20.0-cp312-cp312-macosx_10_9_universal2.whl (1.3 MB)\n",
      "\u001b[2K   \u001b[90m━━━━━━━━━━━━━━━━━━━━━━━━━━━━━━━━━━━━━━━━\u001b[0m \u001b[32m1.3/1.3 MB\u001b[0m \u001b[31m130.0 kB/s\u001b[0m eta \u001b[36m0:00:00\u001b[0ma \u001b[36m0:00:02\u001b[0m\n",
      "\u001b[?25hDownloading watchfiles-0.24.0-cp312-cp312-macosx_11_0_arm64.whl (367 kB)\n",
      "Downloading websockets-13.0.1-cp312-cp312-macosx_11_0_arm64.whl (148 kB)\n",
      "Downloading coloredlogs-15.0.1-py2.py3-none-any.whl (46 kB)\n",
      "Downloading flatbuffers-24.3.25-py2.py3-none-any.whl (26 kB)\n",
      "Downloading pyproject_hooks-1.1.0-py3-none-any.whl (9.2 kB)\n",
      "Downloading requests_oauthlib-2.0.0-py2.py3-none-any.whl (24 kB)\n",
      "Downloading sympy-1.13.2-py3-none-any.whl (6.2 MB)\n",
      "\u001b[2K   \u001b[90m━━━━━━━━━━━━━━━━━━━━━━━━━━━━━━━━━━━━━━━━\u001b[0m \u001b[32m6.2/6.2 MB\u001b[0m \u001b[31m187.4 kB/s\u001b[0m eta \u001b[36m0:00:00\u001b[0ma \u001b[36m0:00:01\u001b[0m\n",
      "\u001b[?25hDownloading asgiref-3.8.1-py3-none-any.whl (23 kB)\n",
      "Downloading cachetools-5.5.0-py3-none-any.whl (9.5 kB)\n",
      "Downloading fsspec-2024.9.0-py3-none-any.whl (179 kB)\n",
      "Downloading humanfriendly-10.0-py2.py3-none-any.whl (86 kB)\n",
      "Downloading markdown_it_py-3.0.0-py3-none-any.whl (87 kB)\n",
      "Downloading mpmath-1.3.0-py3-none-any.whl (536 kB)\n",
      "\u001b[2K   \u001b[90m━━━━━━━━━━━━━━━━━━━━━━━━━━━━━━━━━━━━━━━\u001b[0m \u001b[32m536.2/536.2 kB\u001b[0m \u001b[31m479.6 kB/s\u001b[0m eta \u001b[36m0:00:00\u001b[0m:--:--\u001b[0m\n",
      "\u001b[?25hDownloading pyasn1_modules-0.4.0-py3-none-any.whl (181 kB)\n",
      "Downloading rsa-4.9-py3-none-any.whl (34 kB)\n",
      "Downloading wrapt-1.16.0-cp312-cp312-macosx_11_0_arm64.whl (38 kB)\n",
      "Downloading zipp-3.20.1-py3-none-any.whl (9.0 kB)\n",
      "Downloading filelock-3.15.4-py3-none-any.whl (16 kB)\n",
      "Downloading mdurl-0.1.2-py3-none-any.whl (10.0 kB)\n",
      "Downloading pyasn1-0.6.0-py2.py3-none-any.whl (85 kB)\n",
      "Building wheels for collected packages: chroma-hnswlib, pypika\n",
      "  Building wheel for chroma-hnswlib (pyproject.toml) ... \u001b[?25ldone\n",
      "\u001b[?25h  Created wheel for chroma-hnswlib: filename=chroma_hnswlib-0.7.3-cp312-cp312-macosx_11_0_arm64.whl size=175325 sha256=507db0bdd6fdef905a5a63b34848cd6f2bf8992dd86a41fc79be2dc8cb00be77\n",
      "  Stored in directory: /Users/dohyun/Library/Caches/pip/wheels/6d/14/b5/68c4f2e056600c0348a94efba92dc975686ab72b714e0ca3d6\n",
      "  Building wheel for pypika (pyproject.toml) ... \u001b[?25ldone\n",
      "\u001b[?25h  Created wheel for pypika: filename=PyPika-0.48.9-py2.py3-none-any.whl size=53726 sha256=ac8f35cc3cda294e1bce16cf2fe967bd8eff3ae3e932fadb58bfa1ddab4883e1\n",
      "  Stored in directory: /Users/dohyun/Library/Caches/pip/wheels/d5/3d/69/8d68d249cd3de2584f226e27fd431d6344f7d70fd856ebd01b\n",
      "Successfully built chroma-hnswlib pypika\n",
      "Installing collected packages: pypika, mpmath, monotonic, mmh3, flatbuffers, zipp, wrapt, websockets, uvloop, sympy, shellingham, pyproject_hooks, pyasn1, protobuf, opentelemetry-util-http, oauthlib, mdurl, importlib-resources, humanfriendly, httptools, grpcio, fsspec, filelock, click, chroma-hnswlib, cachetools, bcrypt, backoff, asgiref, watchfiles, uvicorn, starlette, rsa, requests-oauthlib, pyasn1-modules, posthog, opentelemetry-proto, markdown-it-py, importlib-metadata, huggingface-hub, googleapis-common-protos, deprecated, coloredlogs, build, tokenizers, rich, opentelemetry-exporter-otlp-proto-common, opentelemetry-api, onnxruntime, google-auth, fastapi, typer, opentelemetry-semantic-conventions, opentelemetry-instrumentation, kubernetes, opentelemetry-sdk, opentelemetry-instrumentation-asgi, opentelemetry-instrumentation-fastapi, opentelemetry-exporter-otlp-proto-grpc, chromadb, langchain-chroma\n",
      "Successfully installed asgiref-3.8.1 backoff-2.2.1 bcrypt-4.2.0 build-1.2.1 cachetools-5.5.0 chroma-hnswlib-0.7.3 chromadb-0.5.3 click-8.1.7 coloredlogs-15.0.1 deprecated-1.2.14 fastapi-0.113.0 filelock-3.15.4 flatbuffers-24.3.25 fsspec-2024.9.0 google-auth-2.34.0 googleapis-common-protos-1.65.0 grpcio-1.66.1 httptools-0.6.1 huggingface-hub-0.24.6 humanfriendly-10.0 importlib-metadata-8.4.0 importlib-resources-6.4.4 kubernetes-30.1.0 langchain-chroma-0.1.3 markdown-it-py-3.0.0 mdurl-0.1.2 mmh3-4.1.0 monotonic-1.6 mpmath-1.3.0 oauthlib-3.2.2 onnxruntime-1.19.2 opentelemetry-api-1.27.0 opentelemetry-exporter-otlp-proto-common-1.27.0 opentelemetry-exporter-otlp-proto-grpc-1.27.0 opentelemetry-instrumentation-0.48b0 opentelemetry-instrumentation-asgi-0.48b0 opentelemetry-instrumentation-fastapi-0.48b0 opentelemetry-proto-1.27.0 opentelemetry-sdk-1.27.0 opentelemetry-semantic-conventions-0.48b0 opentelemetry-util-http-0.48b0 posthog-3.6.3 protobuf-4.25.4 pyasn1-0.6.0 pyasn1-modules-0.4.0 pypika-0.48.9 pyproject_hooks-1.1.0 requests-oauthlib-2.0.0 rich-13.8.0 rsa-4.9 shellingham-1.5.4 starlette-0.38.4 sympy-1.13.2 tokenizers-0.20.0 typer-0.12.5 uvicorn-0.30.6 uvloop-0.20.0 watchfiles-0.24.0 websockets-13.0.1 wrapt-1.16.0 zipp-3.20.1\n",
      "Note: you may need to restart the kernel to use updated packages.\n"
     ]
    }
   ],
   "source": [
    "pip install langchain langchain-chroma langchain-openai"
   ]
  },
  {
   "cell_type": "code",
   "execution_count": 3,
   "metadata": {
    "vscode": {
     "languageId": "shellscript"
    }
   },
   "outputs": [
    {
     "name": "stdout",
     "output_type": "stream",
     "text": [
      "Collecting pypdf\n",
      "  Downloading pypdf-4.3.1-py3-none-any.whl.metadata (7.4 kB)\n",
      "Downloading pypdf-4.3.1-py3-none-any.whl (295 kB)\n",
      "Installing collected packages: pypdf\n",
      "Successfully installed pypdf-4.3.1\n",
      "Note: you may need to restart the kernel to use updated packages.\n"
     ]
    }
   ],
   "source": [
    "pip install pypdf"
   ]
  },
  {
   "cell_type": "markdown",
   "metadata": {},
   "source": [
    "3. Document 생성"
   ]
  },
  {
   "cell_type": "code",
   "execution_count": 16,
   "metadata": {},
   "outputs": [
    {
     "data": {
      "text/plain": [
       "[Document(metadata={'source': './snow-white.pdf', 'page': 0}, page_content='백설공주\\n옛날어느왕국에공주님이 태어났어요 .\\n“어쩜이렇게어여쁠까 ? 살결이눈처럼하얗구나 . 백\\n설공주라고 불러야겠다 .”\\n왕과왕비는갓태어난딸을보며기뻐했어요 .\\n하지만기쁨도잠시, 왕비는곧세상을떠나고말았어\\n요.\\n'),\n",
       " Document(metadata={'source': './snow-white.pdf', 'page': 1}, page_content='왕은아름다운 새왕비를맞았어요 .\\n그런데새왕비는자기보다 아름다운 사람을두고보\\n지못했어요 .\\n왕비는진실만을 말하는요술거울에게 늘이렇게물\\n었어요 .\\n“거울아 , 거울아 . 이세상에서 누가가장아름답니 ?”\\n“이세상에서 가장아름다운 사람은왕비님입니다 .”\\n그대답을들어야만 차가운왕비얼굴에미소가번졌\\n지요.\\n시간이흘러백설공주는 어여쁜소녀가되었어요 .\\n어느날, 왕비는요술거울에게 물었지요 .\\n“거울아 , 거울아 . 이세상에서 누가가장아름답니 ?”\\n“왕비님도 아름답지만 백설공주가 더아름답습니다 .”\\n화가난왕비는사냥꾼을 불렀어요 .\\n왕비는사냥꾼에게 백설공주를 죽이라고 명령했어요 .\\n하지만사냥꾼은 차마그럴수없었어요 .\\n“가여운공주님 , 왕비님이 찾지못하도록 멀리멀리 떠\\n나세요.”\\n백설공주는 울면서숲으로도망쳤어요 .\\n'),\n",
       " Document(metadata={'source': './snow-white.pdf', 'page': 2}, page_content='숲속을헤매던백설공주는 외딴오두막에 이르렀어요 .\\n들여다보니 오두막은 비어있었어요 .\\n“아무도없네. 좀쉬어가도될까? 어? 신기하다 ! 모든게작아. \\n어어? 이상하다 ! 모든게일곱. 의자도일곱, 접시도일곱. 어머, \\n침대도일곱개네.”\\n도망치느라 치진백설공주는 식탁위에있던빵을먹고나서\\n일곱번째침대에쓰러져잠들었어요 .\\n밤이되자오두막주인인일곱난쟁이가 돌아왔어요 .\\n난쟁이들은 집안이어질러진 것을보고깜짝놀랐지요 .\\n일곱째난쟁이가 큰소리로외쳤어요 .\\n“누가내침대에서 자고있어!”\\n북적이는 소리에잠이깬백설공주는 왕비를피해도망쳤다고\\n이야기했어요 .\\n“불쌍한공주님 , 우리와함께살아요 . 조심조심 또조심. 낯선\\n사람에게는 문을열어주지마세요.”\\n며칠이지나왕비는다시요술거울에게 누가가장아름다운\\n지물었어요 .\\n“왕비님도 아름답지만 백설공주님이 천배는더아름답습니다 .”\\n“사냥꾼이 날속였구나 . 내가직접해치우겠어 !”\\n'),\n",
       " Document(metadata={'source': './snow-white.pdf', 'page': 3}, page_content='왕비는먹음직스럽게 생긴사과를골라독을발랐어요 .\\n그리고과일장수로변장했지요 .\\n왕비는산을넘고또넘어일곱난쟁이의 오두막에 도착했어요 .\\n“새콤달콤 맛있는사과가있어요 . 아가씨의 붉은입술처럼 새빨\\n간사과랍니다 . 잠깐문을열어보세요.”\\n백설공주는 고개를저었어요 .\\n“난쟁이들이 문을열어주지말라고했어요.”\\n백설공주가 거절하자 , 왕비는창문틈새로사과를쑥내밀었어\\n요.\\n“그럼,맛이라도 봐요. 정말맛있으니까 . 둘이먹다하나가죽어\\n도모를걸요 .”\\n“탐스러운 사과네 . 맛있어보여.한입만아삭깨물어볼까?”\\n사과를베어문순간, 백설공주는 온몸에독이퍼져정신을잃고\\n쓰러졌어요 .\\n“호호호 . 이제내가세상에서 가장아름답겠지 ?”\\n왕비는백설공주를 버려둔채자리를떠났어요 .\\n'),\n",
       " Document(metadata={'source': './snow-white.pdf', 'page': 4}, page_content='저녁이되자, 일곱난쟁이가 돌아왔어요 .\\n난쟁이들은 쓰러진백설공주를 보고엉엉울었어요 .\\n백설공주는 깊은잠에빠진것처럼보였지요 .\\n“백설공주님 , 못된왕비의꾐에넘어갔군요 .”\\n“여전히아름다운 우리공주님을 캄캄한땅속에묻을순없어.”\\n“오래오래 볼수있게유리관에모시자.”\\n어느날, 한왕자가숲을지나다가 유리관을 보았어요 .\\n“누구지 ? 이아름다운 여인은?”\\n“백설공주랍니다 .”\\n왕자는백설공주에게 반해유리관을 달라고부탁했어요 .\\n일곱난쟁이는 백설공주를 잘지킨다는 약속을받고유리관을\\n내주었지요 .\\n그런데신하들이 유리관을 옮기다돌부리에 툭! 백설공주 목\\n에서사과조각이툭! \\n“우아, 공주님이 살아났어 !”\\n'),\n",
       " Document(metadata={'source': './snow-white.pdf', 'page': 5}, page_content='왕자는깨어난백설공주를 보고기뻐했어요 .\\n“공주님 , 나는이웃나라왕자입니다 .”\\n“왕자님이 나를다시살려주셨군요 .”\\n“나와결혼해주시겠어요 ?”\\n“네, 좋아요!”\\n두사람은일곱난쟁이와 함께오래오래 행복하게 살\\n았답니다 .\\n')]"
      ]
     },
     "execution_count": 16,
     "metadata": {},
     "output_type": "execute_result"
    }
   ],
   "source": [
    "from langchain_community.document_loaders import PyPDFLoader\n",
    "\n",
    "loader = PyPDFLoader(\"./snow-white.pdf\")\n",
    "\n",
    "docs = loader.load()\n",
    "docs"
   ]
  },
  {
   "cell_type": "markdown",
   "metadata": {},
   "source": [
    "4. split -> embed -> vector store에 저장"
   ]
  },
  {
   "cell_type": "code",
   "execution_count": 17,
   "metadata": {},
   "outputs": [
    {
     "data": {
      "text/plain": [
       "<langchain_chroma.vectorstores.Chroma at 0x138f08590>"
      ]
     },
     "execution_count": 17,
     "metadata": {},
     "output_type": "execute_result"
    }
   ],
   "source": [
    "from langchain_chroma import Chroma\n",
    "from langchain.embeddings import OllamaEmbeddings\n",
    "from langchain_text_splitters import RecursiveCharacterTextSplitter\n",
    "\n",
    "# 임베딩 모델 로드\n",
    "embedding_model = OllamaEmbeddings(model=\"gemma2:2b\")\n",
    "\n",
    "# 문서 분할 (100글자씩 앞 뒤로 10글자씩 겹치게 분할)\n",
    "text_splitter = RecursiveCharacterTextSplitter(chunk_size=100, chunk_overlap=10) # 분할 함수 불러오기\n",
    "texts = text_splitter.split_documents(docs) # 문서를 분할\n",
    "\n",
    "# 분할된 텍스트를 임베딩 한 후 벡터스토어에 저장\n",
    "vectorstore = Chroma.from_documents(\n",
    "\ttexts,\t# 문서 불러옴\n",
    "\tembedding=embedding_model\t# 임베딩된 모델 불러옴\n",
    ")\n",
    "\n",
    "vectorstore"
   ]
  },
  {
   "cell_type": "markdown",
   "metadata": {},
   "source": [
    "5. VectorStore에서 유사도가 높은 문장 검색"
   ]
  },
  {
   "cell_type": "code",
   "execution_count": 19,
   "metadata": {},
   "outputs": [
    {
     "data": {
      "text/plain": [
       "[[Document(metadata={'page': 3, 'source': './snow-white.pdf'}, page_content='쓰러졌어요 .\\n“호호호 . 이제내가세상에서 가장아름답겠지 ?”\\n왕비는백설공주를 버려둔채자리를떠났어요 .'),\n",
       "  Document(metadata={'page': 3, 'source': './snow-white.pdf'}, page_content='쓰러졌어요 .\\n“호호호 . 이제내가세상에서 가장아름답겠지 ?”\\n왕비는백설공주를 버려둔채자리를떠났어요 .'),\n",
       "  Document(metadata={'page': 3, 'source': './snow-white.pdf'}, page_content='쓰러졌어요 .\\n“호호호 . 이제내가세상에서 가장아름답겠지 ?”\\n왕비는백설공주를 버려둔채자리를떠났어요 .'),\n",
       "  Document(metadata={'page': 0, 'source': './snow-white.pdf'}, page_content='백설공주\\n옛날어느왕국에공주님이 태어났어요 .\\n“어쩜이렇게어여쁠까 ? 살결이눈처럼하얗구나 . 백\\n설공주라고 불러야겠다 .”\\n왕과왕비는갓태어난딸을보며기뻐했어요 .'),\n",
       "  Document(metadata={'page': 0, 'source': './snow-white.pdf'}, page_content='백설공주\\n옛날어느왕국에공주님이 태어났어요 .\\n“어쩜이렇게어여쁠까 ? 살결이눈처럼하얗구나 . 백\\n설공주라고 불러야겠다 .”\\n왕과왕비는갓태어난딸을보며기뻐했어요 .')]]"
      ]
     },
     "execution_count": 19,
     "metadata": {},
     "output_type": "execute_result"
    }
   ],
   "source": [
    "sample = \"왕비와 백설공주 중 누가 더 아름다울까?\"\t# 검색어\n",
    "\n",
    "# vectorstore.similarity_search(sample)\t# 유사한 내용을 pdf에서 검색\n",
    "\n",
    "# metadata: 답변에 사용된 기반 문서의 부분에 대한 표기\n",
    "\n",
    "retriever = vectorstore.as_retriever(\n",
    "\tsearch_type=\"similarity\",\n",
    "\tsearch_kwargs={\"k\": 5}\n",
    ")\n",
    "\n",
    "retriever.batch([sample])"
   ]
  },
  {
   "cell_type": "markdown",
   "metadata": {},
   "source": [
    "6. 유사도 높은 문장과 함께 프롬프트 생성"
   ]
  },
  {
   "cell_type": "code",
   "execution_count": 20,
   "metadata": {},
   "outputs": [
    {
     "data": {
      "text/plain": [
       "ChatPromptValue(messages=[SystemMessage(content='당신은 어린아이에게 꿈과 희망을 심어주는 유치원 교사입니다. 질문하는 아이의 반응에 최대한 호흥해주며 context 기반으로만 답변해주세요.'), HumanMessage(content=\"\\nAnswer this question using the provied context only.\\n\\n백설공주의 이름은 왜 백설공주야?\\n\\nContext:\\ntags=['Chroma', 'OllamaEmbeddings'] vectorstore=<langchain_chroma.vectorstores.Chroma object at 0x138f08590> search_kwargs={'k': 5}\\n\")])"
      ]
     },
     "execution_count": 20,
     "metadata": {},
     "output_type": "execute_result"
    }
   ],
   "source": [
    "from langchain_core.prompts import ChatPromptTemplate\n",
    "\n",
    "message = \"\"\"\n",
    "Answer this question using the provied context only.\n",
    "\n",
    "{question}\n",
    "\n",
    "Context:\n",
    "{context}\n",
    "\"\"\"\n",
    "\n",
    "prompt = ChatPromptTemplate.from_messages(\n",
    "\t[\n",
    "\t\t(\"system\", \"당신은 어린아이에게 꿈과 희망을 심어주는 유치원 교사입니다. 질문하는 아이의 반응에 최대한 호흥해주며 context 기반으로만 답변해주세요.\"),\n",
    "\t\t(\"human\", message)\n",
    "\t]\n",
    ")\n",
    "\n",
    "question = \"백설공주의 이름은 왜 백설공주야?\"\n",
    "\n",
    "prompt.invoke({\"context\": retriever, \"question\": question})"
   ]
  },
  {
   "cell_type": "markdown",
   "metadata": {},
   "source": [
    "7. chain 생성 후 LLM 추론"
   ]
  },
  {
   "cell_type": "code",
   "execution_count": 22,
   "metadata": {},
   "outputs": [
    {
     "data": {
      "text/plain": [
       "AIMessage(content='아이, 백설공주의 아름다움을 생각해 보자! 😊  왕비가 말했던 것처럼, 공주도 아름답지만, 공주도 다른 장점이 있어.  백설공주는 숲속에서 행복하게 살아가고 있잖아. 🌳✨\\n\\n누구보다 더 아름다운 것은 누구일까? 🤔 아이의 생각을 들어보자! \\n', response_metadata={'model': 'gemma2:2b', 'created_at': '2024-09-06T02:26:04.826831Z', 'message': {'role': 'assistant', 'content': ''}, 'done_reason': 'stop', 'done': True, 'total_duration': 2214103125, 'load_duration': 23452916, 'prompt_eval_count': 457, 'prompt_eval_duration': 551790000, 'eval_count': 95, 'eval_duration': 1633419000}, id='run-643edb2b-ed05-4a82-b7c5-0a545d7bd696-0')"
      ]
     },
     "execution_count": 22,
     "metadata": {},
     "output_type": "execute_result"
    }
   ],
   "source": [
    "from langchain.chat_models import ChatOllama\n",
    "from langchain_core.runnables import RunnablePassthrough\n",
    "\n",
    "model = ChatOllama(\n",
    "\tmodel=\"gemma2:2b\",\n",
    "\ttemperature=0.3\n",
    ")\n",
    "\n",
    "chain = {\"context\": retriever, \"question\": RunnablePassthrough()} | prompt | model\n",
    "chain.invoke(\"백설공주와 왕비 중 누가 더 아름다울까?\")"
   ]
  }
 ],
 "metadata": {
  "kernelspec": {
   "display_name": "pystudy_env",
   "language": "python",
   "name": "python3"
  },
  "language_info": {
   "codemirror_mode": {
    "name": "ipython",
    "version": 3
   },
   "file_extension": ".py",
   "mimetype": "text/x-python",
   "name": "python",
   "nbconvert_exporter": "python",
   "pygments_lexer": "ipython3",
   "version": "3.12.4"
  }
 },
 "nbformat": 4,
 "nbformat_minor": 2
}
