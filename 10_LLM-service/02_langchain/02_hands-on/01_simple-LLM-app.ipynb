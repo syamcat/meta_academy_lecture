{
 "cells": [
  {
   "cell_type": "markdown",
   "metadata": {},
   "source": [
    "# 간단한 LLM 애플리케이션 만들기\n",
    "## 1. 환경변수 로드 및 랭스미스 연결"
   ]
  },
  {
   "cell_type": "code",
   "execution_count": 1,
   "metadata": {},
   "outputs": [
    {
     "data": {
      "text/plain": [
       "True"
      ]
     },
     "execution_count": 1,
     "metadata": {},
     "output_type": "execute_result"
    }
   ],
   "source": [
    "from dotenv import load_dotenv\n",
    "\n",
    "load_dotenv(dotenv_path=\"../99_env/.env\")"
   ]
  },
  {
   "cell_type": "markdown",
   "metadata": {},
   "source": [
    "## 2. LLM 모델 로드"
   ]
  },
  {
   "cell_type": "code",
   "execution_count": 3,
   "metadata": {},
   "outputs": [],
   "source": [
    "from langchain_openai import ChatOpenAI\n",
    "\n",
    "model = ChatOpenAI(\n",
    "\tmodel_name=\"gpt-4o-mini\",\n",
    "\ttemperature=0.1\t# 창의성 (0.0~0.2)\n",
    ")"
   ]
  },
  {
   "cell_type": "markdown",
   "metadata": {},
   "source": [
    "## 3. 질문 작성"
   ]
  },
  {
   "cell_type": "code",
   "execution_count": 4,
   "metadata": {},
   "outputs": [],
   "source": [
    "question = \"포켓몬스터 중 가장 강력한 몬스터는 어떤 몬스터인가요?\""
   ]
  },
  {
   "cell_type": "markdown",
   "metadata": {},
   "source": [
    "## 4. LLM 추론"
   ]
  },
  {
   "cell_type": "code",
   "execution_count": 7,
   "metadata": {},
   "outputs": [
    {
     "name": "stdout",
     "output_type": "stream",
     "text": [
      "content='포켓몬스터 세계에서 가장 강력한 몬스터는 주관적인 의견에 따라 다를 수 있지만, 일반적으로 \"아르세우스\"가 가장 강력한 포켓몬으로 여겨집니다. 아르세우스는 \"신의 포켓몬\"으로 불리며, 모든 포켓몬의 창조자라는 설정을 가지고 있습니다. \\n\\n또한, \"메가 레쿠자\"나 \"프리즘 레쿠자\"와 같은 포켓몬들도 매우 강력한 성능을 가지고 있어 경쟁에서 자주 언급됩니다. \\n\\n각 포켓몬의 강력함은 상황, 전략, 타입 상성 등에 따라 달라질 수 있으므로, 특정 포켓몬이 항상 가장 강력하다고 단정짓기는 어렵습니다.' additional_kwargs={'refusal': None} response_metadata={'token_usage': {'completion_tokens': 167, 'prompt_tokens': 27, 'total_tokens': 194}, 'model_name': 'gpt-4o-mini-2024-07-18', 'system_fingerprint': 'fp_f905cf32a9', 'finish_reason': 'stop', 'logprobs': None} id='run-3bf65479-b213-4680-a705-7efd8044a1eb-0' usage_metadata={'input_tokens': 27, 'output_tokens': 167, 'total_tokens': 194}\n"
     ]
    }
   ],
   "source": [
    "response = model.invoke(question)\n",
    "response.response_metadata\n",
    "print(response)\n",
    "response.content"
   ]
  },
  {
   "cell_type": "markdown",
   "metadata": {},
   "source": [
    "## 5. 출력 파서를 이용한 출력"
   ]
  },
  {
   "cell_type": "code",
   "execution_count": 9,
   "metadata": {},
   "outputs": [
    {
     "data": {
      "text/plain": [
       "'포켓몬스터 세계에서 가장 강력한 몬스터는 주관적인 의견에 따라 다를 수 있지만, 일반적으로 \"아르세우스\"가 가장 강력한 포켓몬으로 여겨집니다. 아르세우스는 \"신의 포켓몬\"으로 불리며, 모든 포켓몬의 창조자라는 설정을 가지고 있습니다. \\n\\n또한, \"메가 레쿠자\"나 \"프리즘 레쿠자\"와 같은 포켓몬들도 매우 강력한 성능을 가지고 있어 경쟁에서 자주 언급됩니다. \\n\\n각 포켓몬의 강력함은 상황, 전략, 타입 상성 등에 따라 달라질 수 있으므로, 특정 포켓몬이 항상 가장 강력하다고 단정짓기는 어렵습니다.'"
      ]
     },
     "execution_count": 9,
     "metadata": {},
     "output_type": "execute_result"
    }
   ],
   "source": [
    "from langchain_core.output_parsers import StrOutputParser\n",
    "\n",
    "parser = StrOutputParser()\n",
    "\n",
    "parser.invoke(response)"
   ]
  },
  {
   "cell_type": "markdown",
   "metadata": {},
   "source": [
    "## Appendix"
   ]
  },
  {
   "cell_type": "markdown",
   "metadata": {},
   "source": [
    "1. (|)연산자를 사용하여 모델 파서 연결"
   ]
  },
  {
   "cell_type": "code",
   "execution_count": 10,
   "metadata": {},
   "outputs": [
    {
     "data": {
      "text/plain": [
       "'포켓몬스터 세계에서 가장 강력한 몬스터는 주관적인 의견에 따라 다를 수 있지만, 일반적으로 \"아르세우스\"가 가장 강력한 포켓몬으로 여겨집니다. 아르세우스는 \"신의 포켓몬\"으로 불리며, 모든 포켓몬의 창조주로 알려져 있습니다. 또한, 아르세우스는 다양한 타입으로 변환할 수 있는 능력을 가지고 있어 매우 유연한 전투 스타일을 자랑합니다.\\n\\n또한, \"메가 레쿠자\"나 \"프리즘 레쿠자\"와 같은 포켓몬들도 강력한 성능을 가지고 있어 경쟁에서 자주 언급됩니다. 각 포켓몬의 강력함은 상황과 전략에 따라 달라질 수 있으므로, 특정 포켓몬이 항상 가장 강력하다고 단정짓기는 어렵습니다.'"
      ]
     },
     "execution_count": 10,
     "metadata": {},
     "output_type": "execute_result"
    }
   ],
   "source": [
    "chain = model | parser\n",
    "chain.invoke(question)"
   ]
  },
  {
   "cell_type": "markdown",
   "metadata": {},
   "source": [
    "2. 프롬프트 템플릿 사용하기"
   ]
  },
  {
   "cell_type": "code",
   "execution_count": 12,
   "metadata": {},
   "outputs": [
    {
     "data": {
      "text/plain": [
       "'안녕하세요'"
      ]
     },
     "execution_count": 12,
     "metadata": {},
     "output_type": "execute_result"
    }
   ],
   "source": [
    "from langchain_core.prompts import ChatPromptTemplate\n",
    "\n",
    "system_message = \"Translate the following into {language}\"\n",
    "human_message = \"{message}\"\n",
    "\n",
    "prompt_template = ChatPromptTemplate.from_messages(\n",
    "\t[\n",
    "\t\t(\"system\", system_message),\n",
    "\t\t(\"user\", human_message)\n",
    "\t]\n",
    ")\n",
    "\n",
    "# prompt_template.invoke({\"language\": \"Korean\", \"message\": \"hello\"})\n",
    "\n",
    "chain = prompt_template | model | parser\t# 파이프라인이라고 생각하면 된다.\n",
    "chain.invoke({\"language\": \"Korean\", \"message\": \"hello\"})"
   ]
  }
 ],
 "metadata": {
  "kernelspec": {
   "display_name": "pystudy_env",
   "language": "python",
   "name": "python3"
  },
  "language_info": {
   "codemirror_mode": {
    "name": "ipython",
    "version": 3
   },
   "file_extension": ".py",
   "mimetype": "text/x-python",
   "name": "python",
   "nbconvert_exporter": "python",
   "pygments_lexer": "ipython3",
   "version": "3.12.4"
  }
 },
 "nbformat": 4,
 "nbformat_minor": 2
}
