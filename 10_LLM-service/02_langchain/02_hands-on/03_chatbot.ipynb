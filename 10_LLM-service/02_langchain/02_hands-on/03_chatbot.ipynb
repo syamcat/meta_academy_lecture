{
 "cells": [
  {
   "cell_type": "markdown",
   "metadata": {},
   "source": [
    "# 간단한 챗봇 만들기"
   ]
  },
  {
   "cell_type": "markdown",
   "metadata": {},
   "source": [
    "1. 랭스미스 연결"
   ]
  },
  {
   "cell_type": "code",
   "execution_count": 1,
   "metadata": {},
   "outputs": [
    {
     "data": {
      "text/plain": [
       "True"
      ]
     },
     "execution_count": 1,
     "metadata": {},
     "output_type": "execute_result"
    }
   ],
   "source": [
    "from dotenv import load_dotenv\n",
    "\n",
    "load_dotenv(dotenv_path=\"../99_env/.env\")"
   ]
  },
  {
   "cell_type": "markdown",
   "metadata": {},
   "source": [
    "2. 모델 로드"
   ]
  },
  {
   "cell_type": "code",
   "execution_count": 3,
   "metadata": {},
   "outputs": [],
   "source": [
    "from langchain.chat_models import ChatOllama\n",
    "\n",
    "model = ChatOllama(\n",
    "\tmodel=\"gemma2:latest\",\n",
    "\ttemperature=0.3\n",
    ")"
   ]
  },
  {
   "cell_type": "markdown",
   "metadata": {},
   "source": [
    "3. LLM과 대화하기"
   ]
  },
  {
   "cell_type": "code",
   "execution_count": 4,
   "metadata": {},
   "outputs": [
    {
     "data": {
      "text/plain": [
       "AIMessage(content='안녕하세요, 홍길동님! 만나서 반가워요. 😊\\n\\n무엇을 도와드릴까요?  혹시 이야기 나누고 싶은 주제가 있으신가요?', response_metadata={'model': 'gemma2:latest', 'created_at': '2024-09-06T00:54:42.719991Z', 'message': {'role': 'assistant', 'content': ''}, 'done_reason': 'stop', 'done': True, 'total_duration': 6891615500, 'load_duration': 4367976000, 'prompt_eval_count': 19, 'prompt_eval_duration': 182710000, 'eval_count': 49, 'eval_duration': 2339339000}, id='run-05c4f112-51c0-4f9c-a42e-4d9ec755cb8f-0')"
      ]
     },
     "execution_count": 4,
     "metadata": {},
     "output_type": "execute_result"
    }
   ],
   "source": [
    "from langchain_core.messages import HumanMessage\n",
    "\n",
    "model.invoke([HumanMessage(content=\"안녕? 난 홍길동이야\")])"
   ]
  },
  {
   "cell_type": "code",
   "execution_count": 5,
   "metadata": {},
   "outputs": [
    {
     "data": {
      "text/plain": [
       "AIMessage(content='저는 Gemma입니다. 오픈웨이트 AI 모델로, 구글에서 훈련되었습니다. 😊\\n\\n당신의 이름은 무엇인가요?', response_metadata={'model': 'gemma2:latest', 'created_at': '2024-09-06T00:55:21.422335Z', 'message': {'role': 'assistant', 'content': ''}, 'done_reason': 'stop', 'done': True, 'total_duration': 3562401417, 'load_duration': 38034708, 'prompt_eval_count': 16, 'prompt_eval_duration': 1869242000, 'eval_count': 35, 'eval_duration': 1654301000}, id='run-58b88f7d-03bb-4a30-8b5a-3d2c5e962eea-0')"
      ]
     },
     "execution_count": 5,
     "metadata": {},
     "output_type": "execute_result"
    }
   ],
   "source": [
    "model.invoke([HumanMessage(content=\"내 이름이 뭐라고?\")])"
   ]
  },
  {
   "cell_type": "markdown",
   "metadata": {},
   "source": [
    "이름을 기억하게 만듦"
   ]
  },
  {
   "cell_type": "code",
   "execution_count": 6,
   "metadata": {},
   "outputs": [
    {
     "data": {
      "text/plain": [
       "AIMessage(content='당신의 이름은 홍길동이라고 말씀하셨어요! 😊  \\n\\n무엇을 도와드릴까요? 😉 \\n', response_metadata={'model': 'gemma2:latest', 'created_at': '2024-09-06T00:58:17.895274Z', 'message': {'role': 'assistant', 'content': ''}, 'done_reason': 'stop', 'done': True, 'total_duration': 3558219459, 'load_duration': 39785084, 'prompt_eval_count': 57, 'prompt_eval_duration': 1875228000, 'eval_count': 34, 'eval_duration': 1639544000}, id='run-62f008ce-9363-4cca-ac26-addf3c2abb4f-0')"
      ]
     },
     "execution_count": 6,
     "metadata": {},
     "output_type": "execute_result"
    }
   ],
   "source": [
    "from langchain_core.messages import AIMessage\n",
    "\n",
    "model.invoke(\n",
    "\t[\n",
    "\t\tHumanMessage(content=\"안녕? 난 홍길동이야. 나이는 20살이지\"),\n",
    "\t\tAIMessage(content=\"안녕? 나는 홍길동이야\"),\n",
    "\t\tHumanMessage(content=\"내 이름이 뭐라고 했지?\")\n",
    "\t]\n",
    ")"
   ]
  }
 ],
 "metadata": {
  "kernelspec": {
   "display_name": "pystudy_env",
   "language": "python",
   "name": "python3"
  },
  "language_info": {
   "codemirror_mode": {
    "name": "ipython",
    "version": 3
   },
   "file_extension": ".py",
   "mimetype": "text/x-python",
   "name": "python",
   "nbconvert_exporter": "python",
   "pygments_lexer": "ipython3",
   "version": "3.12.4"
  }
 },
 "nbformat": 4,
 "nbformat_minor": 2
}
